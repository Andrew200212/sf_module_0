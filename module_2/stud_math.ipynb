{
 "cells": [
  {
   "cell_type": "markdown",
   "metadata": {},
   "source": [
    "# 1 Подключение библиотек и чтение файла"
   ]
  },
  {
   "cell_type": "code",
   "execution_count": 1,
   "metadata": {},
   "outputs": [
    {
     "data": {
      "text/html": [
       "<div>\n",
       "<style scoped>\n",
       "    .dataframe tbody tr th:only-of-type {\n",
       "        vertical-align: middle;\n",
       "    }\n",
       "\n",
       "    .dataframe tbody tr th {\n",
       "        vertical-align: top;\n",
       "    }\n",
       "\n",
       "    .dataframe thead th {\n",
       "        text-align: right;\n",
       "    }\n",
       "</style>\n",
       "<table border=\"1\" class=\"dataframe\">\n",
       "  <thead>\n",
       "    <tr style=\"text-align: right;\">\n",
       "      <th></th>\n",
       "      <th>school</th>\n",
       "      <th>sex</th>\n",
       "      <th>age</th>\n",
       "      <th>address</th>\n",
       "      <th>famsize</th>\n",
       "      <th>Pstatus</th>\n",
       "      <th>Medu</th>\n",
       "      <th>Fedu</th>\n",
       "      <th>Mjob</th>\n",
       "      <th>Fjob</th>\n",
       "      <th>reason</th>\n",
       "      <th>guardian</th>\n",
       "      <th>traveltime</th>\n",
       "      <th>studytime</th>\n",
       "      <th>failures</th>\n",
       "      <th>schoolsup</th>\n",
       "      <th>famsup</th>\n",
       "      <th>paid</th>\n",
       "      <th>activities</th>\n",
       "      <th>nursery</th>\n",
       "      <th>studytime, granular</th>\n",
       "      <th>higher</th>\n",
       "      <th>internet</th>\n",
       "      <th>romantic</th>\n",
       "      <th>famrel</th>\n",
       "      <th>freetime</th>\n",
       "      <th>goout</th>\n",
       "      <th>health</th>\n",
       "      <th>absences</th>\n",
       "      <th>score</th>\n",
       "    </tr>\n",
       "  </thead>\n",
       "  <tbody>\n",
       "    <tr>\n",
       "      <th>0</th>\n",
       "      <td>GP</td>\n",
       "      <td>F</td>\n",
       "      <td>18</td>\n",
       "      <td>U</td>\n",
       "      <td>NaN</td>\n",
       "      <td>A</td>\n",
       "      <td>4.0</td>\n",
       "      <td>4.0</td>\n",
       "      <td>at_home</td>\n",
       "      <td>teacher</td>\n",
       "      <td>course</td>\n",
       "      <td>mother</td>\n",
       "      <td>2.0</td>\n",
       "      <td>2.0</td>\n",
       "      <td>0.0</td>\n",
       "      <td>yes</td>\n",
       "      <td>no</td>\n",
       "      <td>no</td>\n",
       "      <td>no</td>\n",
       "      <td>yes</td>\n",
       "      <td>-6.0</td>\n",
       "      <td>yes</td>\n",
       "      <td>NaN</td>\n",
       "      <td>no</td>\n",
       "      <td>4.0</td>\n",
       "      <td>3.0</td>\n",
       "      <td>4.0</td>\n",
       "      <td>3.0</td>\n",
       "      <td>6.0</td>\n",
       "      <td>30.0</td>\n",
       "    </tr>\n",
       "    <tr>\n",
       "      <th>1</th>\n",
       "      <td>GP</td>\n",
       "      <td>F</td>\n",
       "      <td>17</td>\n",
       "      <td>U</td>\n",
       "      <td>GT3</td>\n",
       "      <td>NaN</td>\n",
       "      <td>1.0</td>\n",
       "      <td>1.0</td>\n",
       "      <td>at_home</td>\n",
       "      <td>other</td>\n",
       "      <td>course</td>\n",
       "      <td>father</td>\n",
       "      <td>1.0</td>\n",
       "      <td>2.0</td>\n",
       "      <td>0.0</td>\n",
       "      <td>no</td>\n",
       "      <td>yes</td>\n",
       "      <td>no</td>\n",
       "      <td>no</td>\n",
       "      <td>no</td>\n",
       "      <td>-6.0</td>\n",
       "      <td>yes</td>\n",
       "      <td>yes</td>\n",
       "      <td>no</td>\n",
       "      <td>5.0</td>\n",
       "      <td>3.0</td>\n",
       "      <td>3.0</td>\n",
       "      <td>3.0</td>\n",
       "      <td>4.0</td>\n",
       "      <td>30.0</td>\n",
       "    </tr>\n",
       "    <tr>\n",
       "      <th>2</th>\n",
       "      <td>GP</td>\n",
       "      <td>F</td>\n",
       "      <td>15</td>\n",
       "      <td>U</td>\n",
       "      <td>LE3</td>\n",
       "      <td>T</td>\n",
       "      <td>1.0</td>\n",
       "      <td>1.0</td>\n",
       "      <td>at_home</td>\n",
       "      <td>other</td>\n",
       "      <td>other</td>\n",
       "      <td>mother</td>\n",
       "      <td>1.0</td>\n",
       "      <td>2.0</td>\n",
       "      <td>3.0</td>\n",
       "      <td>yes</td>\n",
       "      <td>no</td>\n",
       "      <td>NaN</td>\n",
       "      <td>no</td>\n",
       "      <td>yes</td>\n",
       "      <td>-6.0</td>\n",
       "      <td>yes</td>\n",
       "      <td>yes</td>\n",
       "      <td>NaN</td>\n",
       "      <td>4.0</td>\n",
       "      <td>3.0</td>\n",
       "      <td>2.0</td>\n",
       "      <td>3.0</td>\n",
       "      <td>10.0</td>\n",
       "      <td>50.0</td>\n",
       "    </tr>\n",
       "    <tr>\n",
       "      <th>3</th>\n",
       "      <td>GP</td>\n",
       "      <td>F</td>\n",
       "      <td>15</td>\n",
       "      <td>U</td>\n",
       "      <td>GT3</td>\n",
       "      <td>T</td>\n",
       "      <td>4.0</td>\n",
       "      <td>2.0</td>\n",
       "      <td>health</td>\n",
       "      <td>NaN</td>\n",
       "      <td>home</td>\n",
       "      <td>mother</td>\n",
       "      <td>1.0</td>\n",
       "      <td>3.0</td>\n",
       "      <td>0.0</td>\n",
       "      <td>no</td>\n",
       "      <td>yes</td>\n",
       "      <td>yes</td>\n",
       "      <td>yes</td>\n",
       "      <td>yes</td>\n",
       "      <td>-9.0</td>\n",
       "      <td>yes</td>\n",
       "      <td>yes</td>\n",
       "      <td>yes</td>\n",
       "      <td>3.0</td>\n",
       "      <td>2.0</td>\n",
       "      <td>2.0</td>\n",
       "      <td>5.0</td>\n",
       "      <td>2.0</td>\n",
       "      <td>75.0</td>\n",
       "    </tr>\n",
       "    <tr>\n",
       "      <th>4</th>\n",
       "      <td>GP</td>\n",
       "      <td>F</td>\n",
       "      <td>16</td>\n",
       "      <td>U</td>\n",
       "      <td>GT3</td>\n",
       "      <td>T</td>\n",
       "      <td>3.0</td>\n",
       "      <td>3.0</td>\n",
       "      <td>other</td>\n",
       "      <td>other</td>\n",
       "      <td>home</td>\n",
       "      <td>father</td>\n",
       "      <td>1.0</td>\n",
       "      <td>2.0</td>\n",
       "      <td>0.0</td>\n",
       "      <td>no</td>\n",
       "      <td>yes</td>\n",
       "      <td>yes</td>\n",
       "      <td>no</td>\n",
       "      <td>yes</td>\n",
       "      <td>-6.0</td>\n",
       "      <td>yes</td>\n",
       "      <td>no</td>\n",
       "      <td>no</td>\n",
       "      <td>4.0</td>\n",
       "      <td>3.0</td>\n",
       "      <td>2.0</td>\n",
       "      <td>5.0</td>\n",
       "      <td>4.0</td>\n",
       "      <td>50.0</td>\n",
       "    </tr>\n",
       "  </tbody>\n",
       "</table>\n",
       "</div>"
      ],
      "text/plain": [
       "  school sex  age address famsize Pstatus  Medu  Fedu     Mjob     Fjob  \\\n",
       "0     GP   F   18       U     NaN       A   4.0   4.0  at_home  teacher   \n",
       "1     GP   F   17       U     GT3     NaN   1.0   1.0  at_home    other   \n",
       "2     GP   F   15       U     LE3       T   1.0   1.0  at_home    other   \n",
       "3     GP   F   15       U     GT3       T   4.0   2.0   health      NaN   \n",
       "4     GP   F   16       U     GT3       T   3.0   3.0    other    other   \n",
       "\n",
       "   reason guardian  traveltime  studytime  failures schoolsup famsup paid  \\\n",
       "0  course   mother         2.0        2.0       0.0       yes     no   no   \n",
       "1  course   father         1.0        2.0       0.0        no    yes   no   \n",
       "2   other   mother         1.0        2.0       3.0       yes     no  NaN   \n",
       "3    home   mother         1.0        3.0       0.0        no    yes  yes   \n",
       "4    home   father         1.0        2.0       0.0        no    yes  yes   \n",
       "\n",
       "  activities nursery  studytime, granular higher internet romantic  famrel  \\\n",
       "0         no     yes                 -6.0    yes      NaN       no     4.0   \n",
       "1         no      no                 -6.0    yes      yes       no     5.0   \n",
       "2         no     yes                 -6.0    yes      yes      NaN     4.0   \n",
       "3        yes     yes                 -9.0    yes      yes      yes     3.0   \n",
       "4         no     yes                 -6.0    yes       no       no     4.0   \n",
       "\n",
       "   freetime  goout  health  absences  score  \n",
       "0       3.0    4.0     3.0       6.0   30.0  \n",
       "1       3.0    3.0     3.0       4.0   30.0  \n",
       "2       3.0    2.0     3.0      10.0   50.0  \n",
       "3       2.0    2.0     5.0       2.0   75.0  \n",
       "4       3.0    2.0     5.0       4.0   50.0  "
      ]
     },
     "metadata": {},
     "output_type": "display_data"
    }
   ],
   "source": [
    "#Подключение библиотек\n",
    "import pandas as pd\n",
    "import numpy as np\n",
    "import matplotlib.pyplot as plt\n",
    "import seaborn as sns\n",
    "from itertools import combinations\n",
    "from scipy.stats import ttest_ind\n",
    "import scipy.stats as ss\n",
    "pd.set_option('display.max_columns',50)\n",
    "#Считывание .csv файла\n",
    "stud_math=pd.read_csv(\n",
    "    '/home/stormrider/Desktop/Python/Stud_math/stud_math.csv')\n",
    "display(stud_math.head())"
   ]
  },
  {
   "cell_type": "markdown",
   "metadata": {},
   "source": [
    "# 2 Информация о датафрейме."
   ]
  },
  {
   "cell_type": "code",
   "execution_count": 2,
   "metadata": {},
   "outputs": [
    {
     "name": "stdout",
     "output_type": "stream",
     "text": [
      "<class 'pandas.core.frame.DataFrame'>\n",
      "RangeIndex: 395 entries, 0 to 394\n",
      "Data columns (total 30 columns):\n",
      "school                 395 non-null object\n",
      "sex                    395 non-null object\n",
      "age                    395 non-null int64\n",
      "address                378 non-null object\n",
      "famsize                368 non-null object\n",
      "Pstatus                350 non-null object\n",
      "Medu                   392 non-null float64\n",
      "Fedu                   371 non-null float64\n",
      "Mjob                   376 non-null object\n",
      "Fjob                   359 non-null object\n",
      "reason                 378 non-null object\n",
      "guardian               364 non-null object\n",
      "traveltime             367 non-null float64\n",
      "studytime              388 non-null float64\n",
      "failures               373 non-null float64\n",
      "schoolsup              386 non-null object\n",
      "famsup                 356 non-null object\n",
      "paid                   355 non-null object\n",
      "activities             381 non-null object\n",
      "nursery                379 non-null object\n",
      "studytime, granular    388 non-null float64\n",
      "higher                 375 non-null object\n",
      "internet               361 non-null object\n",
      "romantic               364 non-null object\n",
      "famrel                 368 non-null float64\n",
      "freetime               384 non-null float64\n",
      "goout                  387 non-null float64\n",
      "health                 380 non-null float64\n",
      "absences               383 non-null float64\n",
      "score                  389 non-null float64\n",
      "dtypes: float64(12), int64(1), object(17)\n",
      "memory usage: 92.7+ KB\n"
     ]
    }
   ],
   "source": [
    "stud_math.info()"
   ]
  },
  {
   "cell_type": "code",
   "execution_count": 3,
   "metadata": {},
   "outputs": [
    {
     "data": {
      "text/plain": [
       "<matplotlib.axes._subplots.AxesSubplot at 0x7f985d66c3c8>"
      ]
     },
     "execution_count": 3,
     "metadata": {},
     "output_type": "execute_result"
    },
    {
     "data": {
      "image/png": "[encoded data removed]",
      "text/plain": [
       "<Figure size 432x288 with 1 Axes>"
      ]
     },
     "metadata": {
      "needs_background": "light"
     },
     "output_type": "display_data"
    }
   ],
   "source": [
    "sns.heatmap(data=stud_math.isnull(), cbar=False)"
   ]
  },
  {
   "cell_type": "markdown",
   "metadata": {},
   "source": [
    "## Как видно из тепловой карты - в датасете большое количество пропущенных значений. Удаление пропущенных значений приведет к существенному сокращению выборки.\n",
    "## Выведем списки уникальных значений по каждому параметру:"
   ]
  },
  {
   "cell_type": "code",
   "execution_count": 4,
   "metadata": {},
   "outputs": [
    {
     "name": "stdout",
     "output_type": "stream",
     "text": [
      "school ['GP' 'MS']\n",
      "sex ['F' 'M']\n",
      "age [18 17 15 16 19 22 20 21]\n",
      "address ['U' nan 'R']\n",
      "famsize [nan 'GT3' 'LE3']\n",
      "Pstatus ['A' nan 'T']\n",
      "Medu [ 4.  1.  3.  2. nan  0.]\n",
      "Fedu [ 4.  1.  2.  3. 40. nan  0.]\n",
      "Mjob ['at_home' 'health' 'other' 'services' 'teacher' nan]\n",
      "Fjob ['teacher' 'other' nan 'health' 'services' 'at_home']\n",
      "reason ['course' 'other' 'home' 'reputation' nan]\n",
      "guardian ['mother' 'father' 'other' nan]\n",
      "traveltime [ 2.  1.  3. nan  4.]\n",
      "studytime [ 2.  3.  1. nan  4.]\n",
      "failures [ 0.  3. nan  2.  1.]\n",
      "schoolsup ['yes' 'no' nan]\n",
      "famsup ['no' 'yes' nan]\n",
      "paid ['no' nan 'yes']\n",
      "activities ['no' 'yes' nan]\n",
      "nursery ['yes' 'no' nan]\n",
      "studytime, granular [ -6.  -9.  -3.  nan -12.]\n",
      "higher ['yes' nan 'no']\n",
      "internet [nan 'yes' 'no']\n",
      "romantic ['no' nan 'yes']\n",
      "famrel [ 4.  5.  3. nan -1.  2.  1.]\n",
      "freetime [ 3.  2.  4.  1.  5. nan]\n",
      "goout [ 4.  3.  2.  1.  5. nan]\n",
      "health [ 3.  5.  1.  2.  4. nan]\n",
      "absences [  6.   4.  10.   2.   0.  16.  nan  14.   7.   8.  25.  12.  54.  18.\n",
      "  26.  20.  56.  24.  28.   5.  13.  15.  22.   3. 385.  21.   1.  75.\n",
      "  30.  19.   9.  11.  38.  40.  23.  17. 212.]\n",
      "score [ 30.  50.  75.  55.  95.  45.  60.  70.  80.  25.  40.  85.  90.  65.\n",
      " 100.  35.   0.  nan  20.]\n"
     ]
    }
   ],
   "source": [
    "for column in stud_math.columns:\n",
    "    print(column,\n",
    "          stud_math.loc[:,column].unique())"
   ]
  },
  {
   "cell_type": "markdown",
   "metadata": {},
   "source": [
    "## Можно сделать следующие выводы:\n",
    "## - Параметр Fedu имеет значение 40.0. По условию параметр является категориальным и принимает значения из списка [0,1,2,3,4];\n",
    "## - параметр failures имеет значение 0. По условию параметр является категориальным и принимает значения из списка [1,2,3,4];\n",
    "## - параметр famrel имеет значение -1. По условию параметр является категориальным и принимает значения из списка [1,2,3,4,5];\n",
    "## - параметр absences имеет значения 385 и 212. Данные значения сильно выделяются на фоне остальной выборки и скорее всего являются ошибками;\n",
    "## - параметр score имеет значение 0. Можно предположить, что нулевое количество баллов означает неявку или удаление с экзамена."
   ]
  },
  {
   "cell_type": "markdown",
   "metadata": {},
   "source": [
    "# 3 Первичная обработка данных"
   ]
  },
  {
   "cell_type": "markdown",
   "metadata": {},
   "source": [
    "## Приведем к числовому формату категориальные параметры для дальнейшей работы:"
   ]
  },
  {
   "cell_type": "code",
   "execution_count": 5,
   "metadata": {},
   "outputs": [],
   "source": [
    "#Замена 'yes' и 'no' на 1 и 0\n",
    "for column in ['schoolsup','famsup',\n",
    "               'paid','activities',\n",
    "               'nursery','higher',\n",
    "               'internet','romantic']:\n",
    "    stud_math[column]=stud_math[column].apply(lambda x:0 if x=='no'\n",
    "                                              else 1 if x=='yes'\n",
    "                                              else x)\n",
    "    \n",
    "    \n",
    "#Меняем наименование параметра 'Pstatus' на 'p_together'\n",
    "#и приводим к числовому виду\n",
    "stud_math.Pstatus=stud_math.Pstatus.apply(lambda x: 1 if x=='T'\n",
    "                                          else 0 if x=='A'\n",
    "                                          else x)\n",
    "\n",
    "stud_math.rename(columns={'Pstatus': 'p_together'}, inplace=True)\n",
    "\n",
    "\n",
    "\n",
    "#Меняем наименование параметра 'famsize' на 'famsize_GT3'\n",
    "#и приводим к числовому виду\n",
    "stud_math.famsize=stud_math.famsize.apply(lambda x: 1 if x=='GT3'\n",
    "                                          else 0 if x=='LE3'\n",
    "                                          else x)\n",
    "\n",
    "stud_math.rename(columns={'famsize': 'famsize_GT3'}, inplace=True)\n",
    "\n",
    "\n",
    "#Меняем наименование параметра 'address' на 'city_dweller'\n",
    "#и приводим к числовому виду\n",
    "stud_math.address=stud_math.address.apply(lambda x: 1 if x=='U'\n",
    "                                          else 0 if x=='R'\n",
    "                                          else x)\n",
    "\n",
    "stud_math.rename(columns={'address': 'city_dweller'}, inplace=True)\n",
    "\n",
    "\n",
    "#Приводим параметр school к числовому виду\n",
    "stud_math.school=stud_math.school.apply(lambda x: 1 if x=='GP'\n",
    "                                        else 0 if x=='MS'\n",
    "                                        else x)\n",
    "\n",
    "\n",
    "#Приводим параметры Mjob и Fjob к числовому формату\n",
    "for column in ['Mjob','Fjob']:\n",
    "    stud_math[column]=stud_math[column].apply(lambda x: 0 if x=='teacher'\n",
    "                                              else 1 if x=='health'\n",
    "                                              else 2 if x=='services'\n",
    "                                              else 3 if x=='at_home'\n",
    "                                              else 4 if x=='other'\n",
    "                                              else x)\n",
    "stud_math.reason=stud_math.reason.apply(lambda x: 0 if x=='home'\n",
    "                                              else 1 if x=='reputation'\n",
    "                                              else 2 if x=='course'\n",
    "                                              else 3 if x=='other'\n",
    "                                              else x)\n",
    "stud_math.guardian=stud_math.guardian.apply(lambda x: 0 if x=='mother'\n",
    "                                              else 1 if x=='father'\n",
    "                                              else 2 if x=='other'\n",
    "                                              else x)"
   ]
  },
  {
   "cell_type": "markdown",
   "metadata": {},
   "source": [
    "## Функции"
   ]
  },
  {
   "cell_type": "code",
   "execution_count": 6,
   "metadata": {},
   "outputs": [],
   "source": [
    "def null_count(column):\n",
    "    \"\"\"Вывод информации о количестве пропущенных значений\"\"\"\n",
    "    \n",
    "    \n",
    "    print('Кол-во наблюдений:',column.isnull().count(),'\\n',\n",
    "          'Кол-во значений:','\\n',column.value_counts(),'\\n',\n",
    "          'Кол-во пропущенных значений:',column.isnull().sum(),'\\n',\n",
    "          'Пропорция пропущенных значений:',\n",
    "          round(column.isnull().sum()/column.isnull().count(),2))\n",
    "    \n",
    "    \n",
    "def get_boxplot(column):\n",
    "    \"\"\"Построение boxplot\"\"\"\n",
    "    \n",
    "    \n",
    "    fig,ax=plt.subplots(figsize=(14,4))\n",
    "    sns.boxplot(x=column,y='score',\n",
    "                data=stud_math,\n",
    "                ax=ax)\n",
    "    ax.set_title('Boxplot for '+column)\n",
    "    plt.show()"
   ]
  },
  {
   "cell_type": "markdown",
   "metadata": {},
   "source": [
    "# 3.1 city_dweller"
   ]
  },
  {
   "cell_type": "code",
   "execution_count": 7,
   "metadata": {},
   "outputs": [
    {
     "name": "stdout",
     "output_type": "stream",
     "text": [
      "Кол-во наблюдений: 395 \n",
      " Кол-во значений: \n",
      " 1.0    295\n",
      "0.0     83\n",
      "Name: city_dweller, dtype: int64 \n",
      " Кол-во пропущенных значений: 17 \n",
      " Пропорция пропущенных значений: 0.04\n"
     ]
    },
    {
     "data": {
      "text/plain": [
       "<matplotlib.axes._subplots.AxesSubplot at 0x7f985d6d0438>"
      ]
     },
     "execution_count": 7,
     "metadata": {},
     "output_type": "execute_result"
    },
    {
     "data": {
      "image/png": "[encoded data removed]",
      "text/plain": [
       "<Figure size 432x288 with 1 Axes>"
      ]
     },
     "metadata": {
      "needs_background": "light"
     },
     "output_type": "display_data"
    }
   ],
   "source": [
    "null_count(stud_math.city_dweller)\n",
    "stud_math.city_dweller.plot(kind='hist',bins=3)"
   ]
  },
  {
   "cell_type": "markdown",
   "metadata": {},
   "source": [
    "### Как видно из гистаграммы, количество жителей города составляет значительную часть от их общего количества. При этом количество пропущенных значений составляет всего 4% от общего количества наблюдений.Попробуем установить зависимость со временем, затрачиваемым на дорогу, и школой."
   ]
  },
  {
   "cell_type": "code",
   "execution_count": 8,
   "metadata": {},
   "outputs": [
    {
     "name": "stdout",
     "output_type": "stream",
     "text": [
      "Кол-во наблюдений: 395 \n",
      " Кол-во значений: \n",
      " 1.0    242\n",
      "2.0     96\n",
      "3.0     22\n",
      "4.0      7\n",
      "Name: traveltime, dtype: int64 \n",
      " Кол-во пропущенных значений: 28 \n",
      " Пропорция пропущенных значений: 0.07\n"
     ]
    }
   ],
   "source": [
    "null_count(stud_math.traveltime)"
   ]
  },
  {
   "cell_type": "code",
   "execution_count": 9,
   "metadata": {},
   "outputs": [
    {
     "data": {
      "text/plain": [
       "<matplotlib.axes._subplots.AxesSubplot at 0x7f985b0e21d0>"
      ]
     },
     "execution_count": 9,
     "metadata": {},
     "output_type": "execute_result"
    },
    {
     "data": {
      "image/png": "[encoded data removed]",
      "text/plain": [
       "<Figure size 432x288 with 2 Axes>"
      ]
     },
     "metadata": {
      "needs_background": "light"
     },
     "output_type": "display_data"
    },
    {
     "data": {
      "image/png": "[encoded data removed]",
      "text/plain": [
       "<Figure size 432x288 with 1 Axes>"
      ]
     },
     "metadata": {
      "needs_background": "light"
     },
     "output_type": "display_data"
    }
   ],
   "source": [
    "ct=pd.crosstab([stud_math.city_dweller,stud_math.traveltime],\n",
    "               stud_math.school)\n",
    "sns.heatmap(ct)\n",
    "ct.plot(kind='bar')"
   ]
  },
  {
   "cell_type": "markdown",
   "metadata": {},
   "source": [
    "### Как видно по тепловой карте и гистограмме, большее количество учащихся затрачивает менее 30 минут на дорогу, живут в городе, учатся в школе 1. Заменим нулевые значения параметра city_dweller на 1, если значение school равно 1, случайным значением 0 или 1, если значение school равно 0. "
   ]
  },
  {
   "cell_type": "code",
   "execution_count": 10,
   "metadata": {},
   "outputs": [],
   "source": [
    "def city_d(city_dweller,school):\n",
    "    \"\"\"Функция замены пропущенных значений\"\"\"\n",
    "    \n",
    "    \n",
    "    if city_dweller!=0 and city_dweller!=1:\n",
    "        if school==1:\n",
    "            return 1\n",
    "        else:\n",
    "            return np.random.choice([0,1])\n",
    "    else:\n",
    "        return city_dweller\n",
    "    \n",
    "    \n",
    "stud_math.city_dweller=stud_math.apply(\n",
    "    lambda x: city_d(x.city_dweller,x.school), axis=1)"
   ]
  },
  {
   "cell_type": "markdown",
   "metadata": {},
   "source": [
    "## Распределение баллов в зависимости от места жительства."
   ]
  },
  {
   "cell_type": "code",
   "execution_count": 11,
   "metadata": {},
   "outputs": [
    {
     "data": {
      "image/png": "[encoded data removed]",
      "text/plain": [
       "<Figure size 1008x288 with 1 Axes>"
      ]
     },
     "metadata": {
      "needs_background": "light"
     },
     "output_type": "display_data"
    }
   ],
   "source": [
    "get_boxplot('city_dweller')"
   ]
  },
  {
   "cell_type": "markdown",
   "metadata": {},
   "source": [
    "### Из графика видно, что баллы у городских жителей в целом выше. В правой части графика имеется выброс в виде нулевого значения баллов."
   ]
  },
  {
   "cell_type": "markdown",
   "metadata": {},
   "source": [
    "# 3.2 traveltime"
   ]
  },
  {
   "cell_type": "markdown",
   "metadata": {},
   "source": [
    "## Заполним пропущенные значения случайным значением 1 или 2, т.к. большинство учеников добираются до учебного заведения не более 30 минут."
   ]
  },
  {
   "cell_type": "code",
   "execution_count": 12,
   "metadata": {},
   "outputs": [],
   "source": [
    "stud_math.traveltime=stud_math.traveltime.apply(lambda x: np.random.choice([1,2]) if pd.isnull(x) else x)"
   ]
  },
  {
   "cell_type": "markdown",
   "metadata": {},
   "source": [
    "## Распределение баллов в зависимости от времени, затрачиваемого на дорогу."
   ]
  },
  {
   "cell_type": "code",
   "execution_count": 13,
   "metadata": {},
   "outputs": [
    {
     "data": {
      "image/png": "[encoded data removed]",
      "text/plain": [
       "<Figure size 1008x288 with 1 Axes>"
      ]
     },
     "metadata": {
      "needs_background": "light"
     },
     "output_type": "display_data"
    }
   ],
   "source": [
    "get_boxplot('traveltime')"
   ]
  },
  {
   "cell_type": "markdown",
   "metadata": {},
   "source": [
    "### Из графика можно сделать вывод, что в среднем баллы выше у тех, кто затрачивает меньше времени на дорогу. Имеются выбросы в виде нулевых значений баллов. В правой части графика имеются выбросы, отличные от нуля. Наличие выбросов предполагает, что разброс значений баллов уменьшается при увеличении времени, затрачиваемого на дорогу.\n"
   ]
  },
  {
   "cell_type": "markdown",
   "metadata": {},
   "source": [
    "# 3.3 higher"
   ]
  },
  {
   "cell_type": "code",
   "execution_count": 14,
   "metadata": {},
   "outputs": [
    {
     "name": "stdout",
     "output_type": "stream",
     "text": [
      "Кол-во наблюдений: 395 \n",
      " Кол-во значений: \n",
      " 1.0    356\n",
      "0.0     19\n",
      "Name: higher, dtype: int64 \n",
      " Кол-во пропущенных значений: 20 \n",
      " Пропорция пропущенных значений: 0.05\n"
     ]
    },
    {
     "data": {
      "text/plain": [
       "<matplotlib.axes._subplots.AxesSubplot at 0x7f985af8d4a8>"
      ]
     },
     "execution_count": 14,
     "metadata": {},
     "output_type": "execute_result"
    },
    {
     "data": {
      "image/png": "[encoded data removed]",
      "text/plain": [
       "<Figure size 432x288 with 1 Axes>"
      ]
     },
     "metadata": {
      "needs_background": "light"
     },
     "output_type": "display_data"
    }
   ],
   "source": [
    "null_count(stud_math.higher)\n",
    "stud_math.higher.plot(kind='hist', bins=3)"
   ]
  },
  {
   "cell_type": "markdown",
   "metadata": {},
   "source": [
    "### Как видно из гистаграммы, количество  учеников, жедающих получить образование существенно больше. При этом количество пропущенных значений составляет  5% от общего количества наблюдений. Заменим отсутствующие значения самым популярным."
   ]
  },
  {
   "cell_type": "code",
   "execution_count": 15,
   "metadata": {},
   "outputs": [],
   "source": [
    "stud_math.higher=stud_math.higher.apply(lambda x: 1 if pd.isnull(x) else x)"
   ]
  },
  {
   "cell_type": "markdown",
   "metadata": {},
   "source": [
    "## Распределение баллов в зависимости от желания получить высшее образование."
   ]
  },
  {
   "cell_type": "code",
   "execution_count": 16,
   "metadata": {},
   "outputs": [
    {
     "data": {
      "image/png": "[encoded data removed]",
      "text/plain": [
       "<Figure size 1008x288 with 1 Axes>"
      ]
     },
     "metadata": {
      "needs_background": "light"
     },
     "output_type": "display_data"
    }
   ],
   "source": [
    "get_boxplot('higher')"
   ]
  },
  {
   "cell_type": "markdown",
   "metadata": {},
   "source": [
    "### Из графика можно сделать вывод, что баллы значительно выше у тех, кто желает получить высшее образование. Имеются выбросы в виде нулевых значений баллов в правой части графика."
   ]
  },
  {
   "cell_type": "markdown",
   "metadata": {},
   "source": [
    "# 3.4 Medu и Fedu"
   ]
  },
  {
   "cell_type": "code",
   "execution_count": 17,
   "metadata": {},
   "outputs": [
    {
     "name": "stdout",
     "output_type": "stream",
     "text": [
      "Кол-во наблюдений: 395 \n",
      " Кол-во значений: \n",
      " 4.0    131\n",
      "2.0    102\n",
      "3.0     97\n",
      "1.0     59\n",
      "0.0      3\n",
      "Name: Medu, dtype: int64 \n",
      " Кол-во пропущенных значений: 3 \n",
      " Пропорция пропущенных значений: 0.01\n"
     ]
    },
    {
     "data": {
      "text/plain": [
       "<matplotlib.axes._subplots.AxesSubplot at 0x7f985aecacf8>"
      ]
     },
     "execution_count": 17,
     "metadata": {},
     "output_type": "execute_result"
    },
    {
     "data": {
      "image/png": "[encoded data removed]",
      "text/plain": [
       "<Figure size 432x288 with 1 Axes>"
      ]
     },
     "metadata": {
      "needs_background": "light"
     },
     "output_type": "display_data"
    }
   ],
   "source": [
    "null_count(stud_math.Medu)\n",
    "stud_math.Medu.plot(kind='hist', bins=9)"
   ]
  },
  {
   "cell_type": "markdown",
   "metadata": {},
   "source": [
    "### Как видно из гистаграммы, количество  учеников растет с увеличением уровня образования матерей. При этом количество пропущенных значений составляет  1% от общего количества наблюдений. Заменим отсутствующие значения самым популярным."
   ]
  },
  {
   "cell_type": "code",
   "execution_count": 18,
   "metadata": {},
   "outputs": [],
   "source": [
    "stud_math.Medu=stud_math.Medu.apply(lambda x: 4 if pd.isnull(x) else x)"
   ]
  },
  {
   "cell_type": "markdown",
   "metadata": {},
   "source": [
    "## Распределение баллов в зависимости от уровня образования матери."
   ]
  },
  {
   "cell_type": "code",
   "execution_count": 19,
   "metadata": {},
   "outputs": [
    {
     "data": {
      "image/png": "[encoded data removed]",
      "text/plain": [
       "<Figure size 1008x288 with 1 Axes>"
      ]
     },
     "metadata": {
      "needs_background": "light"
     },
     "output_type": "display_data"
    }
   ],
   "source": [
    "get_boxplot('Medu')"
   ]
  },
  {
   "cell_type": "markdown",
   "metadata": {},
   "source": [
    "### Из графика видно, что среднее количество баллов растет с ростом уровня образования матери, начиная с 1-го. При этом заметно, что уровень баллов учеников с матерями, не имеющими образования, довольно высокий. Возможно, стоит вынести отсутсвие образования в отдельный параметр."
   ]
  },
  {
   "cell_type": "code",
   "execution_count": 20,
   "metadata": {},
   "outputs": [
    {
     "name": "stdout",
     "output_type": "stream",
     "text": [
      "Кол-во наблюдений: 395 \n",
      " Кол-во значений: \n",
      " 2.0     106\n",
      "3.0      96\n",
      "4.0      88\n",
      "1.0      78\n",
      "0.0       2\n",
      "40.0      1\n",
      "Name: Fedu, dtype: int64 \n",
      " Кол-во пропущенных значений: 24 \n",
      " Пропорция пропущенных значений: 0.06\n"
     ]
    }
   ],
   "source": [
    "null_count(stud_math.Fedu)"
   ]
  },
  {
   "cell_type": "markdown",
   "metadata": {},
   "source": [
    "## Уберем выброс со значением 40."
   ]
  },
  {
   "cell_type": "code",
   "execution_count": 21,
   "metadata": {},
   "outputs": [
    {
     "data": {
      "text/plain": [
       "<matplotlib.axes._subplots.AxesSubplot at 0x7f985ad87240>"
      ]
     },
     "execution_count": 21,
     "metadata": {},
     "output_type": "execute_result"
    },
    {
     "data": {
      "image/png": "[encoded data removed]",
      "text/plain": [
       "<Figure size 432x288 with 1 Axes>"
      ]
     },
     "metadata": {
      "needs_background": "light"
     },
     "output_type": "display_data"
    }
   ],
   "source": [
    "stud_math.Fedu=stud_math.Fedu.apply(lambda x: 4 if x==40 else x)\n",
    "stud_math.Fedu.plot(kind='hist', bins=9, alpha=0.5)"
   ]
  },
  {
   "cell_type": "markdown",
   "metadata": {},
   "source": [
    "### Количество  учеников, отцы которых имеют образование, распределено примерно в равных пропорциях. При этом количество пропущенных значений составляет  6% от общего количества наблюдений. Заменим отсутствующие значения случайными [1,2,3,4]."
   ]
  },
  {
   "cell_type": "code",
   "execution_count": 22,
   "metadata": {},
   "outputs": [],
   "source": [
    "stud_math.Fedu=stud_math.Fedu.apply(\n",
    "    lambda x: np.random.choice([1,2,3,4]) if pd.isnull(x) else x)"
   ]
  },
  {
   "cell_type": "markdown",
   "metadata": {},
   "source": [
    "## Распределение баллов в зависимости от уровня образования отца"
   ]
  },
  {
   "cell_type": "code",
   "execution_count": 23,
   "metadata": {},
   "outputs": [
    {
     "data": {
      "image/png": "[encoded data removed]",
      "text/plain": [
       "<Figure size 1008x288 with 1 Axes>"
      ]
     },
     "metadata": {
      "needs_background": "light"
     },
     "output_type": "display_data"
    }
   ],
   "source": [
    "get_boxplot('Fedu')"
   ]
  },
  {
   "cell_type": "markdown",
   "metadata": {},
   "source": [
    "### Из графика видно, что среднее количество баллов увеличивается с ростом уровня образования отца. При этом заметно, что уровень количества баллов учеников с отцами, не имеющими образования, довольно высокий. Возможно, стоит вынести отсутсвие образование в отдельный параметр."
   ]
  },
  {
   "cell_type": "markdown",
   "metadata": {},
   "source": [
    "# 3.5 Mjob и Fjob\n",
    "## 0 - teacher\n",
    "## 1 - health\n",
    "## 2 - services\n",
    "## 3 - at_home\n",
    "## 4 - other"
   ]
  },
  {
   "cell_type": "code",
   "execution_count": 24,
   "metadata": {},
   "outputs": [
    {
     "name": "stdout",
     "output_type": "stream",
     "text": [
      "Кол-во наблюдений: 395 \n",
      " Кол-во значений: \n",
      " 4.0    133\n",
      "2.0     98\n",
      "3.0     58\n",
      "0.0     55\n",
      "1.0     32\n",
      "Name: Mjob, dtype: int64 \n",
      " Кол-во пропущенных значений: 19 \n",
      " Пропорция пропущенных значений: 0.05\n"
     ]
    },
    {
     "data": {
      "text/plain": [
       "<matplotlib.axes._subplots.AxesSubplot at 0x7f985b05a358>"
      ]
     },
     "execution_count": 24,
     "metadata": {},
     "output_type": "execute_result"
    },
    {
     "data": {
      "image/png": "[encoded data removed]",
      "text/plain": [
       "<Figure size 432x288 with 1 Axes>"
      ]
     },
     "metadata": {
      "needs_background": "light"
     },
     "output_type": "display_data"
    }
   ],
   "source": [
    "null_count(stud_math.Mjob)\n",
    "stud_math.Mjob.plot(kind='hist', bins=9)"
   ]
  },
  {
   "cell_type": "markdown",
   "metadata": {},
   "source": [
    "### Количество пропущенных значений составляет  5% от общего количества наблюдений. Заменим отсутствующие значения случайными [2,4]."
   ]
  },
  {
   "cell_type": "code",
   "execution_count": 25,
   "metadata": {},
   "outputs": [],
   "source": [
    "stud_math.Mjob=stud_math.Mjob.apply(\n",
    "    lambda x: np.random.choice([2,4]) if pd.isnull(x) else x)"
   ]
  },
  {
   "cell_type": "markdown",
   "metadata": {},
   "source": [
    "## Распределение баллов в зависимости от места работы матери."
   ]
  },
  {
   "cell_type": "code",
   "execution_count": 26,
   "metadata": {},
   "outputs": [
    {
     "data": {
      "image/png": "[encoded data removed]",
      "text/plain": [
       "<Figure size 1008x288 with 1 Axes>"
      ]
     },
     "metadata": {
      "needs_background": "light"
     },
     "output_type": "display_data"
    }
   ],
   "source": [
    "get_boxplot('Mjob')"
   ]
  },
  {
   "cell_type": "markdown",
   "metadata": {},
   "source": [
    "### Уровень количества баллов самый высокий у учеников, матери которых работают в сфере здравоохранения. Самый низкий - у безработных."
   ]
  },
  {
   "cell_type": "code",
   "execution_count": 27,
   "metadata": {},
   "outputs": [
    {
     "name": "stdout",
     "output_type": "stream",
     "text": [
      "Кол-во наблюдений: 395 \n",
      " Кол-во значений: \n",
      " 4.0    197\n",
      "2.0    102\n",
      "0.0     29\n",
      "3.0     16\n",
      "1.0     15\n",
      "Name: Fjob, dtype: int64 \n",
      " Кол-во пропущенных значений: 36 \n",
      " Пропорция пропущенных значений: 0.09\n"
     ]
    },
    {
     "data": {
      "text/plain": [
       "<matplotlib.axes._subplots.AxesSubplot at 0x7f985adbcc50>"
      ]
     },
     "execution_count": 27,
     "metadata": {},
     "output_type": "execute_result"
    },
    {
     "data": {
      "image/png": "[encoded data removed]",
      "text/plain": [
       "<Figure size 432x288 with 1 Axes>"
      ]
     },
     "metadata": {
      "needs_background": "light"
     },
     "output_type": "display_data"
    }
   ],
   "source": [
    "null_count(stud_math.Fjob)\n",
    "stud_math.Fjob.plot(kind='hist', bins=9)"
   ]
  },
  {
   "cell_type": "markdown",
   "metadata": {},
   "source": [
    "### Количество пропущенных значений составляет  9% от общего количества наблюдений. Заменим отсутствующие значения случайными [2,4]."
   ]
  },
  {
   "cell_type": "code",
   "execution_count": 28,
   "metadata": {},
   "outputs": [],
   "source": [
    "stud_math.Fjob=stud_math.Fjob.apply(\n",
    "    lambda x: np.random.choice([2,4]) if pd.isnull(x) else x)"
   ]
  },
  {
   "cell_type": "markdown",
   "metadata": {},
   "source": [
    "## Распределение баллов в зависимости от места работы отца."
   ]
  },
  {
   "cell_type": "code",
   "execution_count": 29,
   "metadata": {},
   "outputs": [
    {
     "data": {
      "image/png": "[encoded data removed]",
      "text/plain": [
       "<Figure size 1008x288 with 1 Axes>"
      ]
     },
     "metadata": {
      "needs_background": "light"
     },
     "output_type": "display_data"
    }
   ],
   "source": [
    "get_boxplot('Fjob')"
   ]
  },
  {
   "cell_type": "markdown",
   "metadata": {},
   "source": [
    "### Уровень количества баллов слабо зависит от места работы отца ученика, за исключением работы учителем."
   ]
  },
  {
   "cell_type": "markdown",
   "metadata": {},
   "source": [
    "# 3.6 famsize_GT3"
   ]
  },
  {
   "cell_type": "code",
   "execution_count": 30,
   "metadata": {},
   "outputs": [
    {
     "name": "stdout",
     "output_type": "stream",
     "text": [
      "Кол-во наблюдений: 395 \n",
      " Кол-во значений: \n",
      " 1.0    261\n",
      "0.0    107\n",
      "Name: famsize_GT3, dtype: int64 \n",
      " Кол-во пропущенных значений: 27 \n",
      " Пропорция пропущенных значений: 0.07\n"
     ]
    },
    {
     "data": {
      "text/plain": [
       "<matplotlib.axes._subplots.AxesSubplot at 0x7f985ad0c240>"
      ]
     },
     "execution_count": 30,
     "metadata": {},
     "output_type": "execute_result"
    },
    {
     "data": {
      "image/png": "[encoded data removed]",
      "text/plain": [
       "<Figure size 432x288 with 1 Axes>"
      ]
     },
     "metadata": {
      "needs_background": "light"
     },
     "output_type": "display_data"
    }
   ],
   "source": [
    "null_count(stud_math.famsize_GT3)\n",
    "stud_math.famsize_GT3.plot(kind='hist', bins=3)"
   ]
  },
  {
   "cell_type": "markdown",
   "metadata": {},
   "source": [
    "### Количество  учеников, живущих в больших семьях, в 2,5 раза больше количества учеников, живущих в маленьких семьях. При этом количество пропущенных значений составляет  7% от общего количества наблюдений.\n",
    "### Заменим отсутствующие значения единицей."
   ]
  },
  {
   "cell_type": "code",
   "execution_count": 31,
   "metadata": {},
   "outputs": [],
   "source": [
    "stud_math.famsize_GT3=stud_math.famsize_GT3.apply(\n",
    "    lambda x: 1 if pd.isnull(x) else x)"
   ]
  },
  {
   "cell_type": "markdown",
   "metadata": {},
   "source": [
    "## Распределение баллов в зависимости от размера семьи."
   ]
  },
  {
   "cell_type": "code",
   "execution_count": 32,
   "metadata": {},
   "outputs": [
    {
     "data": {
      "image/png": "[encoded data removed]",
      "text/plain": [
       "<Figure size 1008x288 with 1 Axes>"
      ]
     },
     "metadata": {
      "needs_background": "light"
     },
     "output_type": "display_data"
    }
   ],
   "source": [
    "get_boxplot('famsize_GT3')"
   ]
  },
  {
   "cell_type": "markdown",
   "metadata": {},
   "source": [
    "## Уровень количества баллов слабо зависит от размера семьи ученика."
   ]
  },
  {
   "cell_type": "markdown",
   "metadata": {},
   "source": [
    "# 3.7 reason\n",
    "## 0 - home\n",
    "## 1 - reputation\n",
    "## 2 - course\n",
    "## 3 - other"
   ]
  },
  {
   "cell_type": "code",
   "execution_count": 33,
   "metadata": {},
   "outputs": [
    {
     "name": "stdout",
     "output_type": "stream",
     "text": [
      "Кол-во наблюдений: 395 \n",
      " Кол-во значений: \n",
      " 2.0    137\n",
      "0.0    104\n",
      "1.0    103\n",
      "3.0     34\n",
      "Name: reason, dtype: int64 \n",
      " Кол-во пропущенных значений: 17 \n",
      " Пропорция пропущенных значений: 0.04\n"
     ]
    },
    {
     "data": {
      "text/plain": [
       "<matplotlib.axes._subplots.AxesSubplot at 0x7f985abfa198>"
      ]
     },
     "execution_count": 33,
     "metadata": {},
     "output_type": "execute_result"
    },
    {
     "data": {
      "image/png": "[encoded data removed]",
      "text/plain": [
       "<Figure size 432x288 with 1 Axes>"
      ]
     },
     "metadata": {
      "needs_background": "light"
     },
     "output_type": "display_data"
    }
   ],
   "source": [
    "null_count(stud_math.reason)\n",
    "stud_math.reason.plot(kind='hist', bins=7)"
   ]
  },
  {
   "cell_type": "markdown",
   "metadata": {},
   "source": [
    "### На графике видно, что самой частой причиной выбора школы является репутация. С небольшим отставанием распределены расстояние до дома и репутация. При этом количество пропущенных значений составляет  4% от общего количества наблюдений. Отсутсвующие значения заменим случайными величинами 0, 1 или 2."
   ]
  },
  {
   "cell_type": "code",
   "execution_count": 34,
   "metadata": {},
   "outputs": [],
   "source": [
    "stud_math.reason=stud_math.reason.apply(\n",
    "    lambda x: np.random.choice([0,1,2]) if pd.isnull(x) else x)"
   ]
  },
  {
   "cell_type": "markdown",
   "metadata": {},
   "source": [
    "## Распределение баллов в зависимости от причины выбора школы."
   ]
  },
  {
   "cell_type": "code",
   "execution_count": 35,
   "metadata": {},
   "outputs": [
    {
     "data": {
      "image/png": "[encoded data removed]",
      "text/plain": [
       "<Figure size 1008x288 with 1 Axes>"
      ]
     },
     "metadata": {
      "needs_background": "light"
     },
     "output_type": "display_data"
    }
   ],
   "source": [
    "get_boxplot('reason')"
   ]
  },
  {
   "cell_type": "markdown",
   "metadata": {},
   "source": [
    "### Из графиков видно, что причина выбора школы не сильно влияет на распределение количества баллов."
   ]
  },
  {
   "cell_type": "markdown",
   "metadata": {},
   "source": [
    "# 3.8 guardian\n",
    "## 0 - mother\n",
    "## 1 - father\n",
    "## 2 - other"
   ]
  },
  {
   "cell_type": "code",
   "execution_count": 36,
   "metadata": {},
   "outputs": [
    {
     "name": "stdout",
     "output_type": "stream",
     "text": [
      "Кол-во наблюдений: 395 \n",
      " Кол-во значений: \n",
      " 0.0    250\n",
      "1.0     86\n",
      "2.0     28\n",
      "Name: guardian, dtype: int64 \n",
      " Кол-во пропущенных значений: 31 \n",
      " Пропорция пропущенных значений: 0.08\n"
     ]
    },
    {
     "data": {
      "text/plain": [
       "<matplotlib.axes._subplots.AxesSubplot at 0x7f985aafd5c0>"
      ]
     },
     "execution_count": 36,
     "metadata": {},
     "output_type": "execute_result"
    },
    {
     "data": {
      "image/png": "[encoded data removed]",
      "text/plain": [
       "<Figure size 432x288 with 1 Axes>"
      ]
     },
     "metadata": {
      "needs_background": "light"
     },
     "output_type": "display_data"
    }
   ],
   "source": [
    "null_count(stud_math.guardian)\n",
    "stud_math.guardian.plot(kind='hist', bins=5)"
   ]
  },
  {
   "cell_type": "markdown",
   "metadata": {},
   "source": [
    "### На графике видно, что чаще всего в роли опекуна выступает мать. При этом количество пропущенных значений составляет  8% от общего количества наблюдений. Отсутсвующие значения заменим заменим значением 0."
   ]
  },
  {
   "cell_type": "code",
   "execution_count": 37,
   "metadata": {},
   "outputs": [],
   "source": [
    "stud_math.guardian=stud_math.guardian.apply(\n",
    "    lambda x: 0 if pd.isnull(x) else x)"
   ]
  },
  {
   "cell_type": "markdown",
   "metadata": {},
   "source": [
    "## Распределение баллов в зависимости от того, кто является опекуном ученика."
   ]
  },
  {
   "cell_type": "code",
   "execution_count": 38,
   "metadata": {},
   "outputs": [
    {
     "data": {
      "image/png": "[encoded data removed]",
      "text/plain": [
       "<Figure size 1008x288 with 1 Axes>"
      ]
     },
     "metadata": {
      "needs_background": "light"
     },
     "output_type": "display_data"
    }
   ],
   "source": [
    "get_boxplot('guardian')"
   ]
  },
  {
   "cell_type": "markdown",
   "metadata": {},
   "source": [
    "### Можно сделать вывод, что ученики, опекунами которых являются мать или отец, в среднем набрали более высокое количество баллов."
   ]
  },
  {
   "cell_type": "markdown",
   "metadata": {},
   "source": [
    "# 3.9 studytime\n",
    "## 0 - n < 2 hours\n",
    "## 1 - 2 hours < n < 5 hours\n",
    "## 2 - 5 hours < n < 10 hours\n",
    "## 3 - n > 10 hours"
   ]
  },
  {
   "cell_type": "code",
   "execution_count": 39,
   "metadata": {},
   "outputs": [
    {
     "name": "stdout",
     "output_type": "stream",
     "text": [
      "Кол-во наблюдений: 395 \n",
      " Кол-во значений: \n",
      " 2.0    194\n",
      "1.0    103\n",
      "3.0     64\n",
      "4.0     27\n",
      "Name: studytime, dtype: int64 \n",
      " Кол-во пропущенных значений: 7 \n",
      " Пропорция пропущенных значений: 0.02\n"
     ]
    },
    {
     "data": {
      "text/plain": [
       "<matplotlib.axes._subplots.AxesSubplot at 0x7f985ac47e10>"
      ]
     },
     "execution_count": 39,
     "metadata": {},
     "output_type": "execute_result"
    },
    {
     "data": {
      "image/png": "[encoded data removed]",
      "text/plain": [
       "<Figure size 432x288 with 1 Axes>"
      ]
     },
     "metadata": {
      "needs_background": "light"
     },
     "output_type": "display_data"
    }
   ],
   "source": [
    "null_count(stud_math.studytime)\n",
    "stud_math.studytime.plot(kind='hist', bins=7)"
   ]
  },
  {
   "cell_type": "markdown",
   "metadata": {},
   "source": [
    "### Большинство учеников учатся помимо школы от 2 до 5 часов. При этом количество пропущенных значений составляет  2% от общего количества наблюдений. Отсутсвующие значения заменим значением 2."
   ]
  },
  {
   "cell_type": "code",
   "execution_count": 40,
   "metadata": {},
   "outputs": [],
   "source": [
    "stud_math.studytime=stud_math.studytime.apply(\n",
    "    lambda x: 2 if pd.isnull(x) else x)"
   ]
  },
  {
   "cell_type": "markdown",
   "metadata": {},
   "source": [
    "## Распределение баллов в зависимости от затраченного на учебу вне школы времени."
   ]
  },
  {
   "cell_type": "code",
   "execution_count": 41,
   "metadata": {},
   "outputs": [
    {
     "data": {
      "image/png": "[encoded data removed]",
      "text/plain": [
       "<Figure size 1008x288 with 1 Axes>"
      ]
     },
     "metadata": {
      "needs_background": "light"
     },
     "output_type": "display_data"
    }
   ],
   "source": [
    "get_boxplot('studytime')"
   ]
  },
  {
   "cell_type": "markdown",
   "metadata": {},
   "source": [
    "### Из графика видно, что количество баллов увеличивается от завтраченного на учебу времени"
   ]
  },
  {
   "cell_type": "markdown",
   "metadata": {},
   "source": [
    "# 3.10 schoolsup"
   ]
  },
  {
   "cell_type": "code",
   "execution_count": 42,
   "metadata": {},
   "outputs": [
    {
     "name": "stdout",
     "output_type": "stream",
     "text": [
      "Кол-во наблюдений: 395 \n",
      " Кол-во значений: \n",
      " 0.0    335\n",
      "1.0     51\n",
      "Name: schoolsup, dtype: int64 \n",
      " Кол-во пропущенных значений: 9 \n",
      " Пропорция пропущенных значений: 0.02\n"
     ]
    },
    {
     "data": {
      "text/plain": [
       "<matplotlib.axes._subplots.AxesSubplot at 0x7f985b00d048>"
      ]
     },
     "execution_count": 42,
     "metadata": {},
     "output_type": "execute_result"
    },
    {
     "data": {
      "image/png": "[encoded data removed]",
      "text/plain": [
       "<Figure size 432x288 with 1 Axes>"
      ]
     },
     "metadata": {
      "needs_background": "light"
     },
     "output_type": "display_data"
    }
   ],
   "source": [
    "null_count(stud_math.schoolsup)\n",
    "stud_math.schoolsup.plot(kind='hist', bins=7)"
   ]
  },
  {
   "cell_type": "markdown",
   "metadata": {},
   "source": [
    "### Большинство учеников не имеет школьной поддержки. При этом количество пропущенных значений составляет  2% от общего количества наблюдений. Отсутсвующие значения заменим значением 0."
   ]
  },
  {
   "cell_type": "code",
   "execution_count": 43,
   "metadata": {},
   "outputs": [],
   "source": [
    "stud_math.schoolsup=stud_math.schoolsup.apply(\n",
    "    lambda x: 0 if pd.isnull(x) else x)"
   ]
  },
  {
   "cell_type": "markdown",
   "metadata": {},
   "source": [
    "## Распределение баллов в зависимости от наличия школьной поддержки."
   ]
  },
  {
   "cell_type": "code",
   "execution_count": 44,
   "metadata": {},
   "outputs": [
    {
     "data": {
      "image/png": "[encoded data removed]",
      "text/plain": [
       "<Figure size 1008x288 with 1 Axes>"
      ]
     },
     "metadata": {
      "needs_background": "light"
     },
     "output_type": "display_data"
    }
   ],
   "source": [
    "get_boxplot('schoolsup')"
   ]
  },
  {
   "cell_type": "markdown",
   "metadata": {},
   "source": [
    "### Ученики, получающие школьную поддержку, набрали в среднем меньшее количество баллов."
   ]
  },
  {
   "cell_type": "markdown",
   "metadata": {},
   "source": [
    "# 3.11 famsup"
   ]
  },
  {
   "cell_type": "code",
   "execution_count": 45,
   "metadata": {},
   "outputs": [
    {
     "name": "stdout",
     "output_type": "stream",
     "text": [
      "Кол-во наблюдений: 395 \n",
      " Кол-во значений: \n",
      " 1.0    219\n",
      "0.0    137\n",
      "Name: famsup, dtype: int64 \n",
      " Кол-во пропущенных значений: 39 \n",
      " Пропорция пропущенных значений: 0.1\n"
     ]
    },
    {
     "data": {
      "text/plain": [
       "<matplotlib.axes._subplots.AxesSubplot at 0x7f985b1c7198>"
      ]
     },
     "execution_count": 45,
     "metadata": {},
     "output_type": "execute_result"
    },
    {
     "data": {
      "image/png": "[encoded data removed]",
      "text/plain": [
       "<Figure size 432x288 with 1 Axes>"
      ]
     },
     "metadata": {
      "needs_background": "light"
     },
     "output_type": "display_data"
    }
   ],
   "source": [
    "null_count(stud_math.famsup)\n",
    "stud_math.famsup.plot(kind='hist', bins=7)"
   ]
  },
  {
   "cell_type": "markdown",
   "metadata": {},
   "source": [
    "### Большинство учеников имеют поддержку семьи. При этом количество пропущенных значений составляет  10% от общего количества наблюдений. Отсутсвующие значения заменим случайной величиной 0 или 1."
   ]
  },
  {
   "cell_type": "code",
   "execution_count": 46,
   "metadata": {},
   "outputs": [],
   "source": [
    "stud_math.famsup=stud_math.famsup.apply(\n",
    "    lambda x: np.random.choice([0,1]) if pd.isnull(x) else x)"
   ]
  },
  {
   "cell_type": "markdown",
   "metadata": {},
   "source": [
    "## Распределение баллов в зависимости от наличия семейной поддержки."
   ]
  },
  {
   "cell_type": "code",
   "execution_count": 47,
   "metadata": {},
   "outputs": [
    {
     "data": {
      "image/png": "[encoded data removed]",
      "text/plain": [
       "<Figure size 1008x288 with 1 Axes>"
      ]
     },
     "metadata": {
      "needs_background": "light"
     },
     "output_type": "display_data"
    }
   ],
   "source": [
    "get_boxplot('famsup')"
   ]
  },
  {
   "cell_type": "markdown",
   "metadata": {},
   "source": [
    "### Наличие семейной поддержки не влияет на количество полученных баллов."
   ]
  },
  {
   "cell_type": "markdown",
   "metadata": {},
   "source": [
    "# 3.12 paid"
   ]
  },
  {
   "cell_type": "code",
   "execution_count": 48,
   "metadata": {},
   "outputs": [
    {
     "name": "stdout",
     "output_type": "stream",
     "text": [
      "Кол-во наблюдений: 395 \n",
      " Кол-во значений: \n",
      " 0.0    200\n",
      "1.0    155\n",
      "Name: paid, dtype: int64 \n",
      " Кол-во пропущенных значений: 40 \n",
      " Пропорция пропущенных значений: 0.1\n"
     ]
    },
    {
     "data": {
      "text/plain": [
       "<matplotlib.axes._subplots.AxesSubplot at 0x7f985aa30320>"
      ]
     },
     "execution_count": 48,
     "metadata": {},
     "output_type": "execute_result"
    },
    {
     "data": {
      "image/png": "[encoded data removed]",
      "text/plain": [
       "<Figure size 432x288 with 1 Axes>"
      ]
     },
     "metadata": {
      "needs_background": "light"
     },
     "output_type": "display_data"
    }
   ],
   "source": [
    "null_count(stud_math.paid)\n",
    "stud_math.paid.plot(kind='hist', bins=7)"
   ]
  },
  {
   "cell_type": "markdown",
   "metadata": {},
   "source": [
    "### Большинство учеников ходят на платные занятия по математике. При этом количество пропущенных значений составляет  10% от общего количества наблюдений. Отсутсвующие значения заменим случайной величиной 0 или 1."
   ]
  },
  {
   "cell_type": "code",
   "execution_count": 49,
   "metadata": {},
   "outputs": [],
   "source": [
    "stud_math.paid=stud_math.paid.apply(\n",
    "    lambda x: np.random.choice([0,1]) if pd.isnull(x) else x)"
   ]
  },
  {
   "cell_type": "markdown",
   "metadata": {},
   "source": [
    "## Распределение баллов в зависимости от наличия платных занятий по математике."
   ]
  },
  {
   "cell_type": "code",
   "execution_count": 50,
   "metadata": {},
   "outputs": [
    {
     "data": {
      "image/png": "[encoded data removed]",
      "text/plain": [
       "<Figure size 1008x288 with 1 Axes>"
      ]
     },
     "metadata": {
      "needs_background": "light"
     },
     "output_type": "display_data"
    }
   ],
   "source": [
    "get_boxplot('paid')"
   ]
  },
  {
   "cell_type": "markdown",
   "metadata": {},
   "source": [
    "### Наличие платных занятий не влияет на количество полученных баллов."
   ]
  },
  {
   "cell_type": "markdown",
   "metadata": {},
   "source": [
    "# 3.12 activities"
   ]
  },
  {
   "cell_type": "code",
   "execution_count": 51,
   "metadata": {},
   "outputs": [
    {
     "name": "stdout",
     "output_type": "stream",
     "text": [
      "Кол-во наблюдений: 395 \n",
      " Кол-во значений: \n",
      " 1.0    195\n",
      "0.0    186\n",
      "Name: activities, dtype: int64 \n",
      " Кол-во пропущенных значений: 14 \n",
      " Пропорция пропущенных значений: 0.04\n"
     ]
    },
    {
     "data": {
      "text/plain": [
       "<matplotlib.axes._subplots.AxesSubplot at 0x7f985a9829b0>"
      ]
     },
     "execution_count": 51,
     "metadata": {},
     "output_type": "execute_result"
    },
    {
     "data": {
      "image/png": "[encoded data removed]",
      "text/plain": [
       "<Figure size 432x288 with 1 Axes>"
      ]
     },
     "metadata": {
      "needs_background": "light"
     },
     "output_type": "display_data"
    }
   ],
   "source": [
    "null_count(stud_math.activities)\n",
    "stud_math.activities.plot(kind='hist', bins=7)"
   ]
  },
  {
   "cell_type": "markdown",
   "metadata": {},
   "source": [
    "### Количество учеников, посещающих и непосещающих дополнительные учебные занятия, распределено примерно поровну. При этом количество пропущенных значений составляет  4% от общего количества наблюдений. Отсутсвующие значения заменим случайными величинами 0 или 1."
   ]
  },
  {
   "cell_type": "code",
   "execution_count": 52,
   "metadata": {},
   "outputs": [],
   "source": [
    "stud_math.activities=stud_math.activities.apply(\n",
    "    lambda x: np.random.choice([0,1]) if pd.isnull(x) else x)"
   ]
  },
  {
   "cell_type": "markdown",
   "metadata": {},
   "source": [
    "## Распределение баллов в зависимости от наличия дополнительных учебных занятий."
   ]
  },
  {
   "cell_type": "code",
   "execution_count": 53,
   "metadata": {},
   "outputs": [
    {
     "data": {
      "image/png": "[encoded data removed]",
      "text/plain": [
       "<Figure size 1008x288 with 1 Axes>"
      ]
     },
     "metadata": {
      "needs_background": "light"
     },
     "output_type": "display_data"
    }
   ],
   "source": [
    "get_boxplot('activities')"
   ]
  },
  {
   "cell_type": "markdown",
   "metadata": {},
   "source": [
    "### Наличие дополнительных учебных занятий не влияет на количество полученных баллов."
   ]
  },
  {
   "cell_type": "markdown",
   "metadata": {},
   "source": [
    "# 3.13 nursery"
   ]
  },
  {
   "cell_type": "code",
   "execution_count": 54,
   "metadata": {},
   "outputs": [
    {
     "name": "stdout",
     "output_type": "stream",
     "text": [
      "Кол-во наблюдений: 395 \n",
      " Кол-во значений: \n",
      " 1.0    300\n",
      "0.0     79\n",
      "Name: nursery, dtype: int64 \n",
      " Кол-во пропущенных значений: 16 \n",
      " Пропорция пропущенных значений: 0.04\n"
     ]
    },
    {
     "data": {
      "text/plain": [
       "<matplotlib.axes._subplots.AxesSubplot at 0x7f985a86a128>"
      ]
     },
     "execution_count": 54,
     "metadata": {},
     "output_type": "execute_result"
    },
    {
     "data": {
      "image/png": "[encoded data removed]",
      "text/plain": [
       "<Figure size 432x288 with 1 Axes>"
      ]
     },
     "metadata": {
      "needs_background": "light"
     },
     "output_type": "display_data"
    }
   ],
   "source": [
    "null_count(stud_math.nursery)\n",
    "stud_math.nursery.plot(kind='hist', bins=7)"
   ]
  },
  {
   "cell_type": "markdown",
   "metadata": {},
   "source": [
    "### Большинство из учеников посещали детский сад. При этом количество пропущенных значений составляет  4% от общего количества наблюдений. Отсутсвующие значения заменим величиной 1."
   ]
  },
  {
   "cell_type": "code",
   "execution_count": 55,
   "metadata": {},
   "outputs": [],
   "source": [
    "stud_math.nursery=stud_math.nursery.apply(\n",
    "    lambda x: 1 if pd.isnull(x) else x)"
   ]
  },
  {
   "cell_type": "markdown",
   "metadata": {},
   "source": [
    "## Распределение баллов в зависимости от посещения детского сада."
   ]
  },
  {
   "cell_type": "code",
   "execution_count": 56,
   "metadata": {},
   "outputs": [
    {
     "data": {
      "image/png": "[encoded data removed]",
      "text/plain": [
       "<Figure size 1008x288 with 1 Axes>"
      ]
     },
     "metadata": {
      "needs_background": "light"
     },
     "output_type": "display_data"
    }
   ],
   "source": [
    "get_boxplot('nursery')"
   ]
  },
  {
   "cell_type": "markdown",
   "metadata": {},
   "source": [
    "### Посещение детского сада не влияет на количество полученных баллов."
   ]
  },
  {
   "cell_type": "markdown",
   "metadata": {},
   "source": [
    "# 3.14 famrel"
   ]
  },
  {
   "cell_type": "code",
   "execution_count": 57,
   "metadata": {},
   "outputs": [
    {
     "name": "stdout",
     "output_type": "stream",
     "text": [
      "Кол-во наблюдений: 395 \n",
      " Кол-во значений: \n",
      "  4.0    182\n",
      " 5.0     99\n",
      " 3.0     62\n",
      " 2.0     17\n",
      " 1.0      7\n",
      "-1.0      1\n",
      "Name: famrel, dtype: int64 \n",
      " Кол-во пропущенных значений: 27 \n",
      " Пропорция пропущенных значений: 0.07\n"
     ]
    }
   ],
   "source": [
    "null_count(stud_math.famrel)"
   ]
  },
  {
   "cell_type": "markdown",
   "metadata": {},
   "source": [
    "## Заменяем значение -1 на 1."
   ]
  },
  {
   "cell_type": "code",
   "execution_count": 58,
   "metadata": {},
   "outputs": [
    {
     "data": {
      "text/plain": [
       "<matplotlib.axes._subplots.AxesSubplot at 0x7f985a7c2358>"
      ]
     },
     "execution_count": 58,
     "metadata": {},
     "output_type": "execute_result"
    },
    {
     "data": {
      "image/png": "[encoded data removed]",
      "text/plain": [
       "<Figure size 432x288 with 1 Axes>"
      ]
     },
     "metadata": {
      "needs_background": "light"
     },
     "output_type": "display_data"
    }
   ],
   "source": [
    "stud_math.famrel=stud_math.famrel.apply(\n",
    "    lambda x: 1 if x==-1 else x)\n",
    "\n",
    "stud_math.famrel.plot(kind='hist', bins=9)"
   ]
  },
  {
   "cell_type": "markdown",
   "metadata": {},
   "source": [
    "### Большинство учеников имеют хорошие отношения в семье. При этом количество пропущенных значений составляет  7% от общего количества наблюдений. Отсутсвующие значения заменим величиной 4."
   ]
  },
  {
   "cell_type": "code",
   "execution_count": 59,
   "metadata": {},
   "outputs": [],
   "source": [
    "stud_math.famrel=stud_math.famrel.apply(\n",
    "    lambda x: 4 if pd.isnull(x) else x)"
   ]
  },
  {
   "cell_type": "markdown",
   "metadata": {},
   "source": [
    "## Распределение баллов в зависимости от качества отношений в семье."
   ]
  },
  {
   "cell_type": "code",
   "execution_count": 60,
   "metadata": {},
   "outputs": [
    {
     "data": {
      "image/png": "[encoded data removed]",
      "text/plain": [
       "<Figure size 1008x288 with 1 Axes>"
      ]
     },
     "metadata": {
      "needs_background": "light"
     },
     "output_type": "display_data"
    }
   ],
   "source": [
    "get_boxplot('famrel')"
   ]
  },
  {
   "cell_type": "markdown",
   "metadata": {},
   "source": [
    "### Качество семейных отношений не влияет на количество полученных баллов."
   ]
  },
  {
   "cell_type": "markdown",
   "metadata": {},
   "source": [
    "# 3.15 freetime"
   ]
  },
  {
   "cell_type": "code",
   "execution_count": 61,
   "metadata": {},
   "outputs": [
    {
     "name": "stdout",
     "output_type": "stream",
     "text": [
      "Кол-во наблюдений: 395 \n",
      " Кол-во значений: \n",
      " 3.0    153\n",
      "4.0    112\n",
      "2.0     63\n",
      "5.0     38\n",
      "1.0     18\n",
      "Name: freetime, dtype: int64 \n",
      " Кол-во пропущенных значений: 11 \n",
      " Пропорция пропущенных значений: 0.03\n"
     ]
    },
    {
     "data": {
      "text/plain": [
       "<matplotlib.axes._subplots.AxesSubplot at 0x7f985b0259b0>"
      ]
     },
     "execution_count": 61,
     "metadata": {},
     "output_type": "execute_result"
    },
    {
     "data": {
      "image/png": "[encoded data removed]",
      "text/plain": [
       "<Figure size 432x288 with 1 Axes>"
      ]
     },
     "metadata": {
      "needs_background": "light"
     },
     "output_type": "display_data"
    }
   ],
   "source": [
    "null_count(stud_math.freetime)\n",
    "stud_math.freetime.plot(kind='hist', bins=9)"
   ]
  },
  {
   "cell_type": "markdown",
   "metadata": {},
   "source": [
    "### Зависимость количества учеников от свободного времени распределена нормально. При этом количество пропущенных значений составляет  3% от общего количества наблюдений. Отсутсвующие значения заменим случайными величинами 2, 3 или 4."
   ]
  },
  {
   "cell_type": "code",
   "execution_count": 62,
   "metadata": {},
   "outputs": [],
   "source": [
    "stud_math.freetime=stud_math.freetime.apply(\n",
    "    lambda x: np.random.choice([2,3,4]) if pd.isnull(x) else x)"
   ]
  },
  {
   "cell_type": "markdown",
   "metadata": {},
   "source": [
    "## Распределение баллов в зависимости от количества свободного времени."
   ]
  },
  {
   "cell_type": "code",
   "execution_count": 63,
   "metadata": {},
   "outputs": [
    {
     "data": {
      "image/png": "[encoded data removed]",
      "text/plain": [
       "<Figure size 1008x288 with 1 Axes>"
      ]
     },
     "metadata": {
      "needs_background": "light"
     },
     "output_type": "display_data"
    }
   ],
   "source": [
    "get_boxplot('freetime')"
   ]
  },
  {
   "cell_type": "markdown",
   "metadata": {},
   "source": [
    "### Количество баллов уменьшается с уменьшением количества свободного времени."
   ]
  },
  {
   "cell_type": "markdown",
   "metadata": {},
   "source": [
    "# 3.16 goout"
   ]
  },
  {
   "cell_type": "code",
   "execution_count": 64,
   "metadata": {},
   "outputs": [
    {
     "name": "stdout",
     "output_type": "stream",
     "text": [
      "Кол-во наблюдений: 395 \n",
      " Кол-во значений: \n",
      " 3.0    127\n",
      "2.0    101\n",
      "4.0     84\n",
      "5.0     52\n",
      "1.0     23\n",
      "Name: goout, dtype: int64 \n",
      " Кол-во пропущенных значений: 8 \n",
      " Пропорция пропущенных значений: 0.02\n"
     ]
    },
    {
     "data": {
      "text/plain": [
       "<matplotlib.axes._subplots.AxesSubplot at 0x7f985a8f8240>"
      ]
     },
     "execution_count": 64,
     "metadata": {},
     "output_type": "execute_result"
    },
    {
     "data": {
      "image/png": "[encoded data removed]",
      "text/plain": [
       "<Figure size 432x288 with 1 Axes>"
      ]
     },
     "metadata": {
      "needs_background": "light"
     },
     "output_type": "display_data"
    }
   ],
   "source": [
    "null_count(stud_math.goout)\n",
    "stud_math.goout.plot(kind='hist', bins=9)"
   ]
  },
  {
   "cell_type": "markdown",
   "metadata": {},
   "source": [
    "### Зависимость количества учеников от времени, проводимого с друзьями, распределена нормально. При этом количество пропущенных значений составляет  2% от общего количества наблюдений. Отсутсвующие значения заменим случайными величинами 2, 3 или 4."
   ]
  },
  {
   "cell_type": "code",
   "execution_count": 65,
   "metadata": {},
   "outputs": [],
   "source": [
    "stud_math.goout=stud_math.goout.apply(\n",
    "    lambda x: np.random.choice([2,3,4]) if pd.isnull(x) else x)"
   ]
  },
  {
   "cell_type": "markdown",
   "metadata": {},
   "source": [
    "## Распределение баллов в зависимости от количества времени, проводимого с друзьями."
   ]
  },
  {
   "cell_type": "code",
   "execution_count": 66,
   "metadata": {},
   "outputs": [
    {
     "data": {
      "image/png": "[encoded data removed]",
      "text/plain": [
       "<Figure size 1008x288 with 1 Axes>"
      ]
     },
     "metadata": {
      "needs_background": "light"
     },
     "output_type": "display_data"
    }
   ],
   "source": [
    "get_boxplot('goout')"
   ]
  },
  {
   "cell_type": "markdown",
   "metadata": {},
   "source": [
    "### Количество баллов уменьшается с увеличением количества времени, проводимого с друзьями."
   ]
  },
  {
   "cell_type": "markdown",
   "metadata": {},
   "source": [
    "# 3.17 health"
   ]
  },
  {
   "cell_type": "code",
   "execution_count": 67,
   "metadata": {},
   "outputs": [
    {
     "name": "stdout",
     "output_type": "stream",
     "text": [
      "Кол-во наблюдений: 395 \n",
      " Кол-во значений: \n",
      " 5.0    138\n",
      "3.0     89\n",
      "4.0     63\n",
      "1.0     47\n",
      "2.0     43\n",
      "Name: health, dtype: int64 \n",
      " Кол-во пропущенных значений: 15 \n",
      " Пропорция пропущенных значений: 0.04\n"
     ]
    },
    {
     "data": {
      "text/plain": [
       "<matplotlib.axes._subplots.AxesSubplot at 0x7f985a774b00>"
      ]
     },
     "execution_count": 67,
     "metadata": {},
     "output_type": "execute_result"
    },
    {
     "data": {
      "image/png": "[encoded data removed]",
      "text/plain": [
       "<Figure size 432x288 with 1 Axes>"
      ]
     },
     "metadata": {
      "needs_background": "light"
     },
     "output_type": "display_data"
    }
   ],
   "source": [
    "null_count(stud_math.health)\n",
    "stud_math.health.plot(kind='hist', bins=9)"
   ]
  },
  {
   "cell_type": "markdown",
   "metadata": {},
   "source": [
    "### Из графика можно сделать вывод, что большая часть учеников обладает отличным здоровьем. При этом количество пропущенных значений составляет  4% от общего количества наблюдений. Отсутсвующие значения заменим случайными величинами 3 или 5."
   ]
  },
  {
   "cell_type": "code",
   "execution_count": 68,
   "metadata": {},
   "outputs": [],
   "source": [
    "stud_math.health=stud_math.health.apply(\n",
    "    lambda x: np.random.choice([3,5]) if pd.isnull(x) else x)"
   ]
  },
  {
   "cell_type": "markdown",
   "metadata": {},
   "source": [
    "# Распределение баллов в зависимости от состояния здоровья."
   ]
  },
  {
   "cell_type": "code",
   "execution_count": 69,
   "metadata": {},
   "outputs": [
    {
     "data": {
      "image/png": "[encoded data removed]",
      "text/plain": [
       "<Figure size 1008x288 with 1 Axes>"
      ]
     },
     "metadata": {
      "needs_background": "light"
     },
     "output_type": "display_data"
    }
   ],
   "source": [
    "get_boxplot('health')"
   ]
  },
  {
   "cell_type": "markdown",
   "metadata": {},
   "source": [
    "### Количество баллов уменьшается с улучшением состояния здоровья."
   ]
  },
  {
   "cell_type": "markdown",
   "metadata": {},
   "source": [
    "# 3.18 internet"
   ]
  },
  {
   "cell_type": "code",
   "execution_count": 70,
   "metadata": {},
   "outputs": [
    {
     "name": "stdout",
     "output_type": "stream",
     "text": [
      "Кол-во наблюдений: 395 \n",
      " Кол-во значений: \n",
      " 1.0    305\n",
      "0.0     56\n",
      "Name: internet, dtype: int64 \n",
      " Кол-во пропущенных значений: 34 \n",
      " Пропорция пропущенных значений: 0.09\n"
     ]
    },
    {
     "data": {
      "text/plain": [
       "<matplotlib.axes._subplots.AxesSubplot at 0x7f985a6e9320>"
      ]
     },
     "execution_count": 70,
     "metadata": {},
     "output_type": "execute_result"
    },
    {
     "data": {
      "image/png": "[encoded data removed]",
      "text/plain": [
       "<Figure size 432x288 with 1 Axes>"
      ]
     },
     "metadata": {
      "needs_background": "light"
     },
     "output_type": "display_data"
    }
   ],
   "source": [
    "null_count(stud_math.internet)\n",
    "stud_math.internet.plot(kind='hist', bins=3)"
   ]
  },
  {
   "cell_type": "markdown",
   "metadata": {},
   "source": [
    "### У большинства учеников дома есть интернет. При этом количество пропущенных значений составляет  9% от общего количества наблюдений. Отсутсвующие значения заменим величиной 1."
   ]
  },
  {
   "cell_type": "code",
   "execution_count": 71,
   "metadata": {},
   "outputs": [],
   "source": [
    "stud_math.internet=stud_math.internet.apply(\n",
    "    lambda x: 1 if pd.isnull(x) else x)"
   ]
  },
  {
   "cell_type": "markdown",
   "metadata": {},
   "source": [
    "## Распределение баллов в зависимости от наличия интернета дома."
   ]
  },
  {
   "cell_type": "code",
   "execution_count": 72,
   "metadata": {},
   "outputs": [
    {
     "data": {
      "image/png": "[encoded data removed]",
      "text/plain": [
       "<Figure size 1008x288 with 1 Axes>"
      ]
     },
     "metadata": {
      "needs_background": "light"
     },
     "output_type": "display_data"
    }
   ],
   "source": [
    "get_boxplot('internet')"
   ]
  },
  {
   "cell_type": "markdown",
   "metadata": {},
   "source": [
    "### Из графика видно, что наличие интернета благоприятно сказывается на количестве баллов."
   ]
  },
  {
   "cell_type": "markdown",
   "metadata": {},
   "source": [
    "# 3.19 romantic"
   ]
  },
  {
   "cell_type": "code",
   "execution_count": 73,
   "metadata": {},
   "outputs": [
    {
     "name": "stdout",
     "output_type": "stream",
     "text": [
      "Кол-во наблюдений: 395 \n",
      " Кол-во значений: \n",
      " 0.0    240\n",
      "1.0    124\n",
      "Name: romantic, dtype: int64 \n",
      " Кол-во пропущенных значений: 31 \n",
      " Пропорция пропущенных значений: 0.08\n"
     ]
    },
    {
     "data": {
      "text/plain": [
       "<matplotlib.axes._subplots.AxesSubplot at 0x7f985a5c4940>"
      ]
     },
     "execution_count": 73,
     "metadata": {},
     "output_type": "execute_result"
    },
    {
     "data": {
      "image/png": "[encoded data removed]",
      "text/plain": [
       "<Figure size 432x288 with 1 Axes>"
      ]
     },
     "metadata": {
      "needs_background": "light"
     },
     "output_type": "display_data"
    }
   ],
   "source": [
    "null_count(stud_math.romantic)\n",
    "stud_math.romantic.plot(kind='hist', bins=3)"
   ]
  },
  {
   "cell_type": "markdown",
   "metadata": {},
   "source": [
    "### У большинства учеников нет романтических отношений. При этом количество пропущенных значений составляет  8% от общего количества наблюдений. Отсутсвующие значения заменим случайными величинами 0 или 1."
   ]
  },
  {
   "cell_type": "code",
   "execution_count": 74,
   "metadata": {},
   "outputs": [],
   "source": [
    "stud_math.romantic=stud_math.romantic.apply(\n",
    "    lambda x: np.random.choice([0,1]) if pd.isnull(x) else x)"
   ]
  },
  {
   "cell_type": "markdown",
   "metadata": {},
   "source": [
    "## Распределение баллов в зависимости от наличия романтических отношений."
   ]
  },
  {
   "cell_type": "code",
   "execution_count": 75,
   "metadata": {},
   "outputs": [
    {
     "data": {
      "image/png": "[encoded data removed]",
      "text/plain": [
       "<Figure size 1008x288 with 1 Axes>"
      ]
     },
     "metadata": {
      "needs_background": "light"
     },
     "output_type": "display_data"
    }
   ],
   "source": [
    "get_boxplot('romantic')"
   ]
  },
  {
   "cell_type": "markdown",
   "metadata": {},
   "source": [
    "### По графику можно сделать вывод, что наличие романтических отношений не сказывается на количестве баллов."
   ]
  },
  {
   "cell_type": "markdown",
   "metadata": {},
   "source": [
    "# 3.20 Pstatus"
   ]
  },
  {
   "cell_type": "code",
   "execution_count": 76,
   "metadata": {},
   "outputs": [
    {
     "name": "stdout",
     "output_type": "stream",
     "text": [
      "Кол-во наблюдений: 395 \n",
      " Кол-во значений: \n",
      " 1.0    314\n",
      "0.0     36\n",
      "Name: p_together, dtype: int64 \n",
      " Кол-во пропущенных значений: 45 \n",
      " Пропорция пропущенных значений: 0.11\n"
     ]
    },
    {
     "data": {
      "text/plain": [
       "<matplotlib.axes._subplots.AxesSubplot at 0x7f985a4eeb00>"
      ]
     },
     "execution_count": 76,
     "metadata": {},
     "output_type": "execute_result"
    },
    {
     "data": {
      "image/png": "[encoded data removed]",
      "text/plain": [
       "<Figure size 432x288 with 1 Axes>"
      ]
     },
     "metadata": {
      "needs_background": "light"
     },
     "output_type": "display_data"
    }
   ],
   "source": [
    "null_count(stud_math.p_together)\n",
    "stud_math.p_together.plot(kind='hist', bins=3)"
   ]
  },
  {
   "cell_type": "markdown",
   "metadata": {},
   "source": [
    "### У большинства учеников родители живут вместе. При этом количество пропущенных значений составляет  11% от общего количества наблюдений. Отсутсвующие значения заменим величиной 1."
   ]
  },
  {
   "cell_type": "code",
   "execution_count": 77,
   "metadata": {},
   "outputs": [],
   "source": [
    "stud_math.p_together=stud_math.p_together.apply(\n",
    "    lambda x: 1 if pd.isnull(x) else x)"
   ]
  },
  {
   "cell_type": "markdown",
   "metadata": {},
   "source": [
    "## Распределение баллов в зависимости от статуса совместного проживания родителей."
   ]
  },
  {
   "cell_type": "code",
   "execution_count": 78,
   "metadata": {},
   "outputs": [
    {
     "data": {
      "image/png": "[encoded data removed]",
      "text/plain": [
       "<Figure size 1008x288 with 1 Axes>"
      ]
     },
     "metadata": {
      "needs_background": "light"
     },
     "output_type": "display_data"
    }
   ],
   "source": [
    "get_boxplot('p_together')"
   ]
  },
  {
   "cell_type": "markdown",
   "metadata": {},
   "source": [
    "### Из графика можно сделать вывод, что количество баллов не зависит от статуса совместного проживания родителей ученика."
   ]
  },
  {
   "cell_type": "markdown",
   "metadata": {},
   "source": [
    "# 3.21 failures"
   ]
  },
  {
   "cell_type": "code",
   "execution_count": 79,
   "metadata": {},
   "outputs": [
    {
     "name": "stdout",
     "output_type": "stream",
     "text": [
      "Кол-во наблюдений: 395 \n",
      " Кол-во значений: \n",
      " 0.0    293\n",
      "1.0     49\n",
      "2.0     16\n",
      "3.0     15\n",
      "Name: failures, dtype: int64 \n",
      " Кол-во пропущенных значений: 22 \n",
      " Пропорция пропущенных значений: 0.06\n"
     ]
    },
    {
     "data": {
      "text/plain": [
       "<matplotlib.axes._subplots.AxesSubplot at 0x7f985a5f9a90>"
      ]
     },
     "execution_count": 79,
     "metadata": {},
     "output_type": "execute_result"
    },
    {
     "data": {
      "image/png": "[encoded data removed]",
      "text/plain": [
       "<Figure size 432x288 with 1 Axes>"
      ]
     },
     "metadata": {
      "needs_background": "light"
     },
     "output_type": "display_data"
    }
   ],
   "source": [
    "null_count(stud_math.failures)\n",
    "stud_math.failures.plot(kind='hist', bins=7)"
   ]
  },
  {
   "cell_type": "markdown",
   "metadata": {},
   "source": [
    "### По графику видно, что большинство учеников имеют значение параметра 0, неучтенное в условии. Т.к. у данного значения нет описания, удалим параметр. "
   ]
  },
  {
   "cell_type": "code",
   "execution_count": 80,
   "metadata": {},
   "outputs": [],
   "source": [
    "stud_math = stud_math.drop('failures', axis=1)"
   ]
  },
  {
   "cell_type": "markdown",
   "metadata": {},
   "source": [
    "# 3.22 studytime, granular"
   ]
  },
  {
   "cell_type": "code",
   "execution_count": 81,
   "metadata": {},
   "outputs": [
    {
     "data": {
      "text/html": [
       "<div>\n",
       "<style scoped>\n",
       "    .dataframe tbody tr th:only-of-type {\n",
       "        vertical-align: middle;\n",
       "    }\n",
       "\n",
       "    .dataframe tbody tr th {\n",
       "        vertical-align: top;\n",
       "    }\n",
       "\n",
       "    .dataframe thead th {\n",
       "        text-align: right;\n",
       "    }\n",
       "</style>\n",
       "<table border=\"1\" class=\"dataframe\">\n",
       "  <thead>\n",
       "    <tr style=\"text-align: right;\">\n",
       "      <th></th>\n",
       "      <th>school</th>\n",
       "      <th>age</th>\n",
       "      <th>city_dweller</th>\n",
       "      <th>famsize_GT3</th>\n",
       "      <th>p_together</th>\n",
       "      <th>Medu</th>\n",
       "      <th>Fedu</th>\n",
       "      <th>Mjob</th>\n",
       "      <th>Fjob</th>\n",
       "      <th>reason</th>\n",
       "      <th>guardian</th>\n",
       "      <th>traveltime</th>\n",
       "      <th>studytime</th>\n",
       "      <th>schoolsup</th>\n",
       "      <th>famsup</th>\n",
       "      <th>paid</th>\n",
       "      <th>activities</th>\n",
       "      <th>nursery</th>\n",
       "      <th>studytime, granular</th>\n",
       "      <th>higher</th>\n",
       "      <th>internet</th>\n",
       "      <th>romantic</th>\n",
       "      <th>famrel</th>\n",
       "      <th>freetime</th>\n",
       "      <th>goout</th>\n",
       "      <th>health</th>\n",
       "      <th>absences</th>\n",
       "      <th>score</th>\n",
       "    </tr>\n",
       "  </thead>\n",
       "  <tbody>\n",
       "    <tr>\n",
       "      <th>school</th>\n",
       "      <td>1.000000</td>\n",
       "      <td>-0.377610</td>\n",
       "      <td>0.305692</td>\n",
       "      <td>0.062853</td>\n",
       "      <td>-0.060121</td>\n",
       "      <td>0.136125</td>\n",
       "      <td>0.085554</td>\n",
       "      <td>-0.057506</td>\n",
       "      <td>0.038044</td>\n",
       "      <td>-0.122641</td>\n",
       "      <td>-0.005995</td>\n",
       "      <td>-0.235955</td>\n",
       "      <td>0.092290</td>\n",
       "      <td>0.139789</td>\n",
       "      <td>0.176980</td>\n",
       "      <td>0.021922</td>\n",
       "      <td>0.103007</td>\n",
       "      <td>0.094709</td>\n",
       "      <td>-0.092700</td>\n",
       "      <td>0.029040</td>\n",
       "      <td>0.101331</td>\n",
       "      <td>-0.077485</td>\n",
       "      <td>0.032196</td>\n",
       "      <td>-0.037919</td>\n",
       "      <td>0.005508</td>\n",
       "      <td>0.043373</td>\n",
       "      <td>-0.013642</td>\n",
       "      <td>0.044524</td>\n",
       "    </tr>\n",
       "    <tr>\n",
       "      <th>age</th>\n",
       "      <td>-0.377610</td>\n",
       "      <td>1.000000</td>\n",
       "      <td>-0.169080</td>\n",
       "      <td>-0.020143</td>\n",
       "      <td>0.014241</td>\n",
       "      <td>-0.160777</td>\n",
       "      <td>-0.161226</td>\n",
       "      <td>0.103118</td>\n",
       "      <td>0.059735</td>\n",
       "      <td>0.015747</td>\n",
       "      <td>0.221920</td>\n",
       "      <td>0.066337</td>\n",
       "      <td>-0.015355</td>\n",
       "      <td>-0.251811</td>\n",
       "      <td>-0.142751</td>\n",
       "      <td>-0.011339</td>\n",
       "      <td>-0.093918</td>\n",
       "      <td>-0.094359</td>\n",
       "      <td>0.015556</td>\n",
       "      <td>-0.202123</td>\n",
       "      <td>-0.102582</td>\n",
       "      <td>0.122642</td>\n",
       "      <td>0.065250</td>\n",
       "      <td>0.021560</td>\n",
       "      <td>0.126082</td>\n",
       "      <td>-0.066136</td>\n",
       "      <td>0.093592</td>\n",
       "      <td>-0.155726</td>\n",
       "    </tr>\n",
       "    <tr>\n",
       "      <th>city_dweller</th>\n",
       "      <td>0.305692</td>\n",
       "      <td>-0.169080</td>\n",
       "      <td>1.000000</td>\n",
       "      <td>-0.059301</td>\n",
       "      <td>-0.060489</td>\n",
       "      <td>0.158211</td>\n",
       "      <td>0.081532</td>\n",
       "      <td>-0.089824</td>\n",
       "      <td>-0.020135</td>\n",
       "      <td>-0.123932</td>\n",
       "      <td>0.079618</td>\n",
       "      <td>-0.265041</td>\n",
       "      <td>-0.056920</td>\n",
       "      <td>0.038486</td>\n",
       "      <td>0.065996</td>\n",
       "      <td>0.050647</td>\n",
       "      <td>-0.037064</td>\n",
       "      <td>0.042941</td>\n",
       "      <td>0.057155</td>\n",
       "      <td>0.053417</td>\n",
       "      <td>0.190066</td>\n",
       "      <td>-0.006656</td>\n",
       "      <td>-0.032190</td>\n",
       "      <td>0.050608</td>\n",
       "      <td>0.076960</td>\n",
       "      <td>-0.035840</td>\n",
       "      <td>0.024930</td>\n",
       "      <td>0.106616</td>\n",
       "    </tr>\n",
       "    <tr>\n",
       "      <th>famsize_GT3</th>\n",
       "      <td>0.062853</td>\n",
       "      <td>-0.020143</td>\n",
       "      <td>-0.059301</td>\n",
       "      <td>1.000000</td>\n",
       "      <td>0.064290</td>\n",
       "      <td>0.048075</td>\n",
       "      <td>0.069650</td>\n",
       "      <td>0.106412</td>\n",
       "      <td>-0.037621</td>\n",
       "      <td>0.001024</td>\n",
       "      <td>0.041708</td>\n",
       "      <td>-0.025505</td>\n",
       "      <td>0.075610</td>\n",
       "      <td>0.030837</td>\n",
       "      <td>0.081813</td>\n",
       "      <td>0.050516</td>\n",
       "      <td>0.030986</td>\n",
       "      <td>-0.091145</td>\n",
       "      <td>-0.076326</td>\n",
       "      <td>0.022713</td>\n",
       "      <td>-0.002770</td>\n",
       "      <td>0.011005</td>\n",
       "      <td>0.021649</td>\n",
       "      <td>-0.012452</td>\n",
       "      <td>-0.040508</td>\n",
       "      <td>0.039418</td>\n",
       "      <td>-0.017267</td>\n",
       "      <td>-0.064874</td>\n",
       "    </tr>\n",
       "    <tr>\n",
       "      <th>p_together</th>\n",
       "      <td>-0.060121</td>\n",
       "      <td>0.014241</td>\n",
       "      <td>-0.060489</td>\n",
       "      <td>0.064290</td>\n",
       "      <td>1.000000</td>\n",
       "      <td>-0.125450</td>\n",
       "      <td>-0.068189</td>\n",
       "      <td>-0.008807</td>\n",
       "      <td>0.039720</td>\n",
       "      <td>0.050296</td>\n",
       "      <td>0.013582</td>\n",
       "      <td>0.053295</td>\n",
       "      <td>0.003874</td>\n",
       "      <td>-0.035463</td>\n",
       "      <td>-0.020295</td>\n",
       "      <td>0.052227</td>\n",
       "      <td>0.112800</td>\n",
       "      <td>-0.070371</td>\n",
       "      <td>-0.004138</td>\n",
       "      <td>-0.030077</td>\n",
       "      <td>0.047818</td>\n",
       "      <td>-0.041201</td>\n",
       "      <td>0.010964</td>\n",
       "      <td>0.044649</td>\n",
       "      <td>0.021686</td>\n",
       "      <td>0.000321</td>\n",
       "      <td>-0.106116</td>\n",
       "      <td>-0.040135</td>\n",
       "    </tr>\n",
       "    <tr>\n",
       "      <th>Medu</th>\n",
       "      <td>0.136125</td>\n",
       "      <td>-0.160777</td>\n",
       "      <td>0.158211</td>\n",
       "      <td>0.048075</td>\n",
       "      <td>-0.125450</td>\n",
       "      <td>1.000000</td>\n",
       "      <td>0.578412</td>\n",
       "      <td>-0.498522</td>\n",
       "      <td>-0.212752</td>\n",
       "      <td>-0.016816</td>\n",
       "      <td>-0.127960</td>\n",
       "      <td>-0.177285</td>\n",
       "      <td>0.073607</td>\n",
       "      <td>-0.032554</td>\n",
       "      <td>0.159243</td>\n",
       "      <td>0.139668</td>\n",
       "      <td>0.094943</td>\n",
       "      <td>0.178702</td>\n",
       "      <td>-0.074156</td>\n",
       "      <td>0.155501</td>\n",
       "      <td>0.188607</td>\n",
       "      <td>0.012875</td>\n",
       "      <td>-0.013366</td>\n",
       "      <td>0.028360</td>\n",
       "      <td>0.078644</td>\n",
       "      <td>-0.058350</td>\n",
       "      <td>-0.013124</td>\n",
       "      <td>0.200890</td>\n",
       "    </tr>\n",
       "    <tr>\n",
       "      <th>Fedu</th>\n",
       "      <td>0.085554</td>\n",
       "      <td>-0.161226</td>\n",
       "      <td>0.081532</td>\n",
       "      <td>0.069650</td>\n",
       "      <td>-0.068189</td>\n",
       "      <td>0.578412</td>\n",
       "      <td>1.000000</td>\n",
       "      <td>-0.314409</td>\n",
       "      <td>-0.329306</td>\n",
       "      <td>-0.009042</td>\n",
       "      <td>-0.008942</td>\n",
       "      <td>-0.134908</td>\n",
       "      <td>0.003509</td>\n",
       "      <td>0.053327</td>\n",
       "      <td>0.167557</td>\n",
       "      <td>0.096895</td>\n",
       "      <td>0.091880</td>\n",
       "      <td>0.127215</td>\n",
       "      <td>-0.003472</td>\n",
       "      <td>0.172494</td>\n",
       "      <td>0.113236</td>\n",
       "      <td>0.013157</td>\n",
       "      <td>-0.019166</td>\n",
       "      <td>-0.015218</td>\n",
       "      <td>0.056407</td>\n",
       "      <td>0.029257</td>\n",
       "      <td>0.019793</td>\n",
       "      <td>0.114630</td>\n",
       "    </tr>\n",
       "    <tr>\n",
       "      <th>Mjob</th>\n",
       "      <td>-0.057506</td>\n",
       "      <td>0.103118</td>\n",
       "      <td>-0.089824</td>\n",
       "      <td>0.106412</td>\n",
       "      <td>-0.008807</td>\n",
       "      <td>-0.498522</td>\n",
       "      <td>-0.314409</td>\n",
       "      <td>1.000000</td>\n",
       "      <td>0.260759</td>\n",
       "      <td>-0.080277</td>\n",
       "      <td>0.131867</td>\n",
       "      <td>0.115105</td>\n",
       "      <td>0.015671</td>\n",
       "      <td>0.089475</td>\n",
       "      <td>-0.121520</td>\n",
       "      <td>-0.168140</td>\n",
       "      <td>-0.112849</td>\n",
       "      <td>-0.131461</td>\n",
       "      <td>-0.015634</td>\n",
       "      <td>-0.060488</td>\n",
       "      <td>-0.129473</td>\n",
       "      <td>0.059093</td>\n",
       "      <td>0.055484</td>\n",
       "      <td>-0.070006</td>\n",
       "      <td>-0.032729</td>\n",
       "      <td>-0.044962</td>\n",
       "      <td>-0.012354</td>\n",
       "      <td>-0.125100</td>\n",
       "    </tr>\n",
       "    <tr>\n",
       "      <th>Fjob</th>\n",
       "      <td>0.038044</td>\n",
       "      <td>0.059735</td>\n",
       "      <td>-0.020135</td>\n",
       "      <td>-0.037621</td>\n",
       "      <td>0.039720</td>\n",
       "      <td>-0.212752</td>\n",
       "      <td>-0.329306</td>\n",
       "      <td>0.260759</td>\n",
       "      <td>1.000000</td>\n",
       "      <td>-0.116344</td>\n",
       "      <td>-0.046341</td>\n",
       "      <td>0.100231</td>\n",
       "      <td>-0.004928</td>\n",
       "      <td>-0.087395</td>\n",
       "      <td>-0.062098</td>\n",
       "      <td>0.034179</td>\n",
       "      <td>-0.014662</td>\n",
       "      <td>-0.077684</td>\n",
       "      <td>0.005326</td>\n",
       "      <td>0.026153</td>\n",
       "      <td>-0.053013</td>\n",
       "      <td>-0.055479</td>\n",
       "      <td>0.051291</td>\n",
       "      <td>0.024551</td>\n",
       "      <td>-0.004445</td>\n",
       "      <td>-0.007989</td>\n",
       "      <td>-0.117051</td>\n",
       "      <td>-0.073126</td>\n",
       "    </tr>\n",
       "    <tr>\n",
       "      <th>reason</th>\n",
       "      <td>-0.122641</td>\n",
       "      <td>0.015747</td>\n",
       "      <td>-0.123932</td>\n",
       "      <td>0.001024</td>\n",
       "      <td>0.050296</td>\n",
       "      <td>-0.016816</td>\n",
       "      <td>-0.009042</td>\n",
       "      <td>-0.080277</td>\n",
       "      <td>-0.116344</td>\n",
       "      <td>1.000000</td>\n",
       "      <td>-0.131638</td>\n",
       "      <td>0.090658</td>\n",
       "      <td>-0.069580</td>\n",
       "      <td>-0.003371</td>\n",
       "      <td>-0.082197</td>\n",
       "      <td>-0.128064</td>\n",
       "      <td>-0.006263</td>\n",
       "      <td>-0.047561</td>\n",
       "      <td>0.070012</td>\n",
       "      <td>-0.135799</td>\n",
       "      <td>-0.047387</td>\n",
       "      <td>0.006293</td>\n",
       "      <td>0.013734</td>\n",
       "      <td>0.111751</td>\n",
       "      <td>0.014770</td>\n",
       "      <td>0.091611</td>\n",
       "      <td>0.050833</td>\n",
       "      <td>0.019642</td>\n",
       "    </tr>\n",
       "    <tr>\n",
       "      <th>guardian</th>\n",
       "      <td>-0.005995</td>\n",
       "      <td>0.221920</td>\n",
       "      <td>0.079618</td>\n",
       "      <td>0.041708</td>\n",
       "      <td>0.013582</td>\n",
       "      <td>-0.127960</td>\n",
       "      <td>-0.008942</td>\n",
       "      <td>0.131867</td>\n",
       "      <td>-0.046341</td>\n",
       "      <td>-0.131638</td>\n",
       "      <td>1.000000</td>\n",
       "      <td>0.093549</td>\n",
       "      <td>0.022944</td>\n",
       "      <td>-0.016514</td>\n",
       "      <td>0.006133</td>\n",
       "      <td>-0.057749</td>\n",
       "      <td>-0.005129</td>\n",
       "      <td>-0.089239</td>\n",
       "      <td>-0.023337</td>\n",
       "      <td>-0.022687</td>\n",
       "      <td>0.025365</td>\n",
       "      <td>0.057884</td>\n",
       "      <td>-0.011674</td>\n",
       "      <td>0.035103</td>\n",
       "      <td>-0.070067</td>\n",
       "      <td>0.005721</td>\n",
       "      <td>-0.024048</td>\n",
       "      <td>-0.041457</td>\n",
       "    </tr>\n",
       "    <tr>\n",
       "      <th>traveltime</th>\n",
       "      <td>-0.235955</td>\n",
       "      <td>0.066337</td>\n",
       "      <td>-0.265041</td>\n",
       "      <td>-0.025505</td>\n",
       "      <td>0.053295</td>\n",
       "      <td>-0.177285</td>\n",
       "      <td>-0.134908</td>\n",
       "      <td>0.115105</td>\n",
       "      <td>0.100231</td>\n",
       "      <td>0.090658</td>\n",
       "      <td>0.093549</td>\n",
       "      <td>1.000000</td>\n",
       "      <td>-0.096747</td>\n",
       "      <td>-0.009446</td>\n",
       "      <td>-0.034551</td>\n",
       "      <td>-0.018069</td>\n",
       "      <td>0.003591</td>\n",
       "      <td>-0.024131</td>\n",
       "      <td>0.097766</td>\n",
       "      <td>-0.060482</td>\n",
       "      <td>-0.062861</td>\n",
       "      <td>0.009824</td>\n",
       "      <td>-0.040860</td>\n",
       "      <td>-0.005379</td>\n",
       "      <td>0.025510</td>\n",
       "      <td>-0.006914</td>\n",
       "      <td>-0.048760</td>\n",
       "      <td>-0.052223</td>\n",
       "    </tr>\n",
       "    <tr>\n",
       "      <th>studytime</th>\n",
       "      <td>0.092290</td>\n",
       "      <td>-0.015355</td>\n",
       "      <td>-0.056920</td>\n",
       "      <td>0.075610</td>\n",
       "      <td>0.003874</td>\n",
       "      <td>0.073607</td>\n",
       "      <td>0.003509</td>\n",
       "      <td>0.015671</td>\n",
       "      <td>-0.004928</td>\n",
       "      <td>-0.069580</td>\n",
       "      <td>0.022944</td>\n",
       "      <td>-0.096747</td>\n",
       "      <td>1.000000</td>\n",
       "      <td>0.036804</td>\n",
       "      <td>0.136138</td>\n",
       "      <td>0.185598</td>\n",
       "      <td>0.105294</td>\n",
       "      <td>0.083525</td>\n",
       "      <td>-1.000000</td>\n",
       "      <td>0.166378</td>\n",
       "      <td>0.044639</td>\n",
       "      <td>0.048788</td>\n",
       "      <td>0.037638</td>\n",
       "      <td>-0.123886</td>\n",
       "      <td>-0.056246</td>\n",
       "      <td>-0.064299</td>\n",
       "      <td>-0.026502</td>\n",
       "      <td>0.114295</td>\n",
       "    </tr>\n",
       "  </tbody>\n",
       "</table>\n",
       "</div>"
      ],
      "text/plain": [
       "                school       age  city_dweller  famsize_GT3  p_together  \\\n",
       "school        1.000000 -0.377610      0.305692     0.062853   -0.060121   \n",
       "age          -0.377610  1.000000     -0.169080    -0.020143    0.014241   \n",
       "city_dweller  0.305692 -0.169080      1.000000    -0.059301   -0.060489   \n",
       "famsize_GT3   0.062853 -0.020143     -0.059301     1.000000    0.064290   \n",
       "p_together   -0.060121  0.014241     -0.060489     0.064290    1.000000   \n",
       "Medu          0.136125 -0.160777      0.158211     0.048075   -0.125450   \n",
       "Fedu          0.085554 -0.161226      0.081532     0.069650   -0.068189   \n",
       "Mjob         -0.057506  0.103118     -0.089824     0.106412   -0.008807   \n",
       "Fjob          0.038044  0.059735     -0.020135    -0.037621    0.039720   \n",
       "reason       -0.122641  0.015747     -0.123932     0.001024    0.050296   \n",
       "guardian     -0.005995  0.221920      0.079618     0.041708    0.013582   \n",
       "traveltime   -0.235955  0.066337     -0.265041    -0.025505    0.053295   \n",
       "studytime     0.092290 -0.015355     -0.056920     0.075610    0.003874   \n",
       "\n",
       "                  Medu      Fedu      Mjob      Fjob    reason  guardian  \\\n",
       "school        0.136125  0.085554 -0.057506  0.038044 -0.122641 -0.005995   \n",
       "age          -0.160777 -0.161226  0.103118  0.059735  0.015747  0.221920   \n",
       "city_dweller  0.158211  0.081532 -0.089824 -0.020135 -0.123932  0.079618   \n",
       "famsize_GT3   0.048075  0.069650  0.106412 -0.037621  0.001024  0.041708   \n",
       "p_together   -0.125450 -0.068189 -0.008807  0.039720  0.050296  0.013582   \n",
       "Medu          1.000000  0.578412 -0.498522 -0.212752 -0.016816 -0.127960   \n",
       "Fedu          0.578412  1.000000 -0.314409 -0.329306 -0.009042 -0.008942   \n",
       "Mjob         -0.498522 -0.314409  1.000000  0.260759 -0.080277  0.131867   \n",
       "Fjob         -0.212752 -0.329306  0.260759  1.000000 -0.116344 -0.046341   \n",
       "reason       -0.016816 -0.009042 -0.080277 -0.116344  1.000000 -0.131638   \n",
       "guardian     -0.127960 -0.008942  0.131867 -0.046341 -0.131638  1.000000   \n",
       "traveltime   -0.177285 -0.134908  0.115105  0.100231  0.090658  0.093549   \n",
       "studytime     0.073607  0.003509  0.015671 -0.004928 -0.069580  0.022944   \n",
       "\n",
       "              traveltime  studytime  schoolsup    famsup      paid  \\\n",
       "school         -0.235955   0.092290   0.139789  0.176980  0.021922   \n",
       "age             0.066337  -0.015355  -0.251811 -0.142751 -0.011339   \n",
       "city_dweller   -0.265041  -0.056920   0.038486  0.065996  0.050647   \n",
       "famsize_GT3    -0.025505   0.075610   0.030837  0.081813  0.050516   \n",
       "p_together      0.053295   0.003874  -0.035463 -0.020295  0.052227   \n",
       "Medu           -0.177285   0.073607  -0.032554  0.159243  0.139668   \n",
       "Fedu           -0.134908   0.003509   0.053327  0.167557  0.096895   \n",
       "Mjob            0.115105   0.015671   0.089475 -0.121520 -0.168140   \n",
       "Fjob            0.100231  -0.004928  -0.087395 -0.062098  0.034179   \n",
       "reason          0.090658  -0.069580  -0.003371 -0.082197 -0.128064   \n",
       "guardian        0.093549   0.022944  -0.016514  0.006133 -0.057749   \n",
       "traveltime      1.000000  -0.096747  -0.009446 -0.034551 -0.018069   \n",
       "studytime      -0.096747   1.000000   0.036804  0.136138  0.185598   \n",
       "\n",
       "              activities   nursery  studytime, granular    higher  internet  \\\n",
       "school          0.103007  0.094709            -0.092700  0.029040  0.101331   \n",
       "age            -0.093918 -0.094359             0.015556 -0.202123 -0.102582   \n",
       "city_dweller   -0.037064  0.042941             0.057155  0.053417  0.190066   \n",
       "famsize_GT3     0.030986 -0.091145            -0.076326  0.022713 -0.002770   \n",
       "p_together      0.112800 -0.070371            -0.004138 -0.030077  0.047818   \n",
       "Medu            0.094943  0.178702            -0.074156  0.155501  0.188607   \n",
       "Fedu            0.091880  0.127215            -0.003472  0.172494  0.113236   \n",
       "Mjob           -0.112849 -0.131461            -0.015634 -0.060488 -0.129473   \n",
       "Fjob           -0.014662 -0.077684             0.005326  0.026153 -0.053013   \n",
       "reason         -0.006263 -0.047561             0.070012 -0.135799 -0.047387   \n",
       "guardian       -0.005129 -0.089239            -0.023337 -0.022687  0.025365   \n",
       "traveltime      0.003591 -0.024131             0.097766 -0.060482 -0.062861   \n",
       "studytime       0.105294  0.083525            -1.000000  0.166378  0.044639   \n",
       "\n",
       "              romantic    famrel  freetime     goout    health  absences  \\\n",
       "school       -0.077485  0.032196 -0.037919  0.005508  0.043373 -0.013642   \n",
       "age           0.122642  0.065250  0.021560  0.126082 -0.066136  0.093592   \n",
       "city_dweller -0.006656 -0.032190  0.050608  0.076960 -0.035840  0.024930   \n",
       "famsize_GT3   0.011005  0.021649 -0.012452 -0.040508  0.039418 -0.017267   \n",
       "p_together   -0.041201  0.010964  0.044649  0.021686  0.000321 -0.106116   \n",
       "Medu          0.012875 -0.013366  0.028360  0.078644 -0.058350 -0.013124   \n",
       "Fedu          0.013157 -0.019166 -0.015218  0.056407  0.029257  0.019793   \n",
       "Mjob          0.059093  0.055484 -0.070006 -0.032729 -0.044962 -0.012354   \n",
       "Fjob         -0.055479  0.051291  0.024551 -0.004445 -0.007989 -0.117051   \n",
       "reason        0.006293  0.013734  0.111751  0.014770  0.091611  0.050833   \n",
       "guardian      0.057884 -0.011674  0.035103 -0.070067  0.005721 -0.024048   \n",
       "traveltime    0.009824 -0.040860 -0.005379  0.025510 -0.006914 -0.048760   \n",
       "studytime     0.048788  0.037638 -0.123886 -0.056246 -0.064299 -0.026502   \n",
       "\n",
       "                 score  \n",
       "school        0.044524  \n",
       "age          -0.155726  \n",
       "city_dweller  0.106616  \n",
       "famsize_GT3  -0.064874  \n",
       "p_together   -0.040135  \n",
       "Medu          0.200890  \n",
       "Fedu          0.114630  \n",
       "Mjob         -0.125100  \n",
       "Fjob         -0.073126  \n",
       "reason        0.019642  \n",
       "guardian     -0.041457  \n",
       "traveltime   -0.052223  \n",
       "studytime     0.114295  "
      ]
     },
     "execution_count": 81,
     "metadata": {},
     "output_type": "execute_result"
    }
   ],
   "source": [
    "stud_math.corr().head(13)"
   ]
  },
  {
   "cell_type": "markdown",
   "metadata": {},
   "source": [
    "### Так как коэффициент корреляции параметров \"studytime\" и \"studytime, granular\" равен -1, удалим параметр \"studytime, granular\"."
   ]
  },
  {
   "cell_type": "code",
   "execution_count": 82,
   "metadata": {},
   "outputs": [],
   "source": [
    "stud_math = stud_math.drop('studytime, granular', axis=1)"
   ]
  },
  {
   "cell_type": "markdown",
   "metadata": {},
   "source": [
    "# 3.23 absences"
   ]
  },
  {
   "cell_type": "code",
   "execution_count": 83,
   "metadata": {},
   "outputs": [
    {
     "name": "stdout",
     "output_type": "stream",
     "text": [
      "Кол-во наблюдений: 395 \n",
      " Кол-во значений: \n",
      " 0.0      111\n",
      "2.0       60\n",
      "4.0       53\n",
      "6.0       31\n",
      "8.0       21\n",
      "10.0      17\n",
      "12.0      12\n",
      "14.0      12\n",
      "3.0        8\n",
      "16.0       7\n",
      "7.0        6\n",
      "5.0        5\n",
      "18.0       5\n",
      "20.0       4\n",
      "22.0       3\n",
      "9.0        3\n",
      "1.0        3\n",
      "15.0       2\n",
      "13.0       2\n",
      "11.0       2\n",
      "25.0       1\n",
      "54.0       1\n",
      "385.0      1\n",
      "26.0       1\n",
      "56.0       1\n",
      "24.0       1\n",
      "212.0      1\n",
      "21.0       1\n",
      "75.0       1\n",
      "30.0       1\n",
      "19.0       1\n",
      "38.0       1\n",
      "40.0       1\n",
      "23.0       1\n",
      "17.0       1\n",
      "28.0       1\n",
      "Name: absences, dtype: int64 \n",
      " Кол-во пропущенных значений: 12 \n",
      " Пропорция пропущенных значений: 0.03\n"
     ]
    },
    {
     "data": {
      "text/plain": [
       "<matplotlib.axes._subplots.AxesSubplot at 0x7f985a6dbbe0>"
      ]
     },
     "execution_count": 83,
     "metadata": {},
     "output_type": "execute_result"
    },
    {
     "data": {
      "image/png": "[encoded data removed]",
      "text/plain": [
       "<Figure size 432x288 with 1 Axes>"
      ]
     },
     "metadata": {
      "needs_background": "light"
     },
     "output_type": "display_data"
    }
   ],
   "source": [
    "null_count(stud_math.absences)\n",
    "stud_math.absences.plot(kind='hist',bins=60)"
   ]
  },
  {
   "cell_type": "markdown",
   "metadata": {},
   "source": [
    "### Среди значений параметра есть похожие на ошибки: 385 и 212."
   ]
  },
  {
   "cell_type": "code",
   "execution_count": 84,
   "metadata": {},
   "outputs": [],
   "source": [
    "stud_math.absences=stud_math.absences.apply(lambda x: 0 if pd.isnull(x) else x)\n",
    "stud_math=stud_math[stud_math.absences<212]"
   ]
  },
  {
   "cell_type": "markdown",
   "metadata": {},
   "source": [
    "# 3.24 score "
   ]
  },
  {
   "cell_type": "code",
   "execution_count": 85,
   "metadata": {},
   "outputs": [
    {
     "name": "stdout",
     "output_type": "stream",
     "text": [
      "Кол-во наблюдений: 393 \n",
      " Кол-во значений: \n",
      " 50.0     54\n",
      "55.0     46\n",
      "0.0      37\n",
      "75.0     33\n",
      "65.0     31\n",
      "40.0     31\n",
      "60.0     31\n",
      "70.0     27\n",
      "45.0     26\n",
      "80.0     16\n",
      "30.0     15\n",
      "90.0     12\n",
      "35.0      9\n",
      "25.0      7\n",
      "85.0      5\n",
      "95.0      5\n",
      "100.0     1\n",
      "20.0      1\n",
      "Name: score, dtype: int64 \n",
      " Кол-во пропущенных значений: 6 \n",
      " Пропорция пропущенных значений: 0.02\n"
     ]
    },
    {
     "data": {
      "text/plain": [
       "<matplotlib.axes._subplots.AxesSubplot at 0x7f985ab466a0>"
      ]
     },
     "execution_count": 85,
     "metadata": {},
     "output_type": "execute_result"
    },
    {
     "data": {
      "image/png": "[encoded data removed]",
      "text/plain": [
       "<Figure size 432x288 with 1 Axes>"
      ]
     },
     "metadata": {
      "needs_background": "light"
     },
     "output_type": "display_data"
    }
   ],
   "source": [
    "null_count(stud_math.score)\n",
    "stud_math.score.plot(kind='hist',bins=45)"
   ]
  },
  {
   "cell_type": "markdown",
   "metadata": {},
   "source": [
    "### Количество пропущенных значений составляет  2% от общего количества наблюдений."
   ]
  },
  {
   "cell_type": "code",
   "execution_count": 86,
   "metadata": {},
   "outputs": [
    {
     "name": "stdout",
     "output_type": "stream",
     "text": [
      "<class 'pandas.core.frame.DataFrame'>\n",
      "Int64Index: 393 entries, 0 to 394\n",
      "Data columns (total 28 columns):\n",
      "school          393 non-null int64\n",
      "sex             393 non-null object\n",
      "age             393 non-null int64\n",
      "city_dweller    393 non-null float64\n",
      "famsize_GT3     393 non-null float64\n",
      "p_together      393 non-null float64\n",
      "Medu            393 non-null float64\n",
      "Fedu            393 non-null float64\n",
      "Mjob            393 non-null float64\n",
      "Fjob            393 non-null float64\n",
      "reason          393 non-null float64\n",
      "guardian        393 non-null float64\n",
      "traveltime      393 non-null float64\n",
      "studytime       393 non-null float64\n",
      "schoolsup       393 non-null float64\n",
      "famsup          393 non-null float64\n",
      "paid            393 non-null float64\n",
      "activities      393 non-null float64\n",
      "nursery         393 non-null float64\n",
      "higher          393 non-null float64\n",
      "internet        393 non-null float64\n",
      "romantic        393 non-null float64\n",
      "famrel          393 non-null float64\n",
      "freetime        393 non-null float64\n",
      "goout           393 non-null float64\n",
      "health          393 non-null float64\n",
      "absences        393 non-null float64\n",
      "score           393 non-null float64\n",
      "dtypes: float64(25), int64(2), object(1)\n",
      "memory usage: 89.0+ KB\n"
     ]
    }
   ],
   "source": [
    "stud_math.score=stud_math.score.apply(lambda x : 50 if pd.isnull(x) else x)\n",
    "stud_math.info()"
   ]
  },
  {
   "cell_type": "code",
   "execution_count": 88,
   "metadata": {},
   "outputs": [
    {
     "name": "stdout",
     "output_type": "stream",
     "text": [
      "Найдены статистические значимые различия для оценки sex\n",
      "Найдены статистические значимые различия для оценки city_dweller\n",
      "Найдены статистические значимые различия для оценки Medu\n",
      "Найдены статистические значимые различия для оценки Mjob\n",
      "Найдены статистические значимые различия для оценки higher\n",
      "Найдены статистические значимые различия для оценки romantic\n"
     ]
    },
    {
     "data": {
      "text/html": [
       "<div>\n",
       "<style scoped>\n",
       "    .dataframe tbody tr th:only-of-type {\n",
       "        vertical-align: middle;\n",
       "    }\n",
       "\n",
       "    .dataframe tbody tr th {\n",
       "        vertical-align: top;\n",
       "    }\n",
       "\n",
       "    .dataframe thead th {\n",
       "        text-align: right;\n",
       "    }\n",
       "</style>\n",
       "<table border=\"1\" class=\"dataframe\">\n",
       "  <thead>\n",
       "    <tr style=\"text-align: right;\">\n",
       "      <th></th>\n",
       "      <th>sex</th>\n",
       "      <th>city_dweller</th>\n",
       "      <th>Medu</th>\n",
       "      <th>Mjob</th>\n",
       "      <th>higher</th>\n",
       "      <th>romantic</th>\n",
       "      <th>goout</th>\n",
       "    </tr>\n",
       "  </thead>\n",
       "  <tbody>\n",
       "    <tr>\n",
       "      <th>0</th>\n",
       "      <td>F</td>\n",
       "      <td>1.0</td>\n",
       "      <td>4.0</td>\n",
       "      <td>3.0</td>\n",
       "      <td>1.0</td>\n",
       "      <td>0.0</td>\n",
       "      <td>4.0</td>\n",
       "    </tr>\n",
       "    <tr>\n",
       "      <th>1</th>\n",
       "      <td>F</td>\n",
       "      <td>1.0</td>\n",
       "      <td>1.0</td>\n",
       "      <td>3.0</td>\n",
       "      <td>1.0</td>\n",
       "      <td>0.0</td>\n",
       "      <td>3.0</td>\n",
       "    </tr>\n",
       "    <tr>\n",
       "      <th>2</th>\n",
       "      <td>F</td>\n",
       "      <td>1.0</td>\n",
       "      <td>1.0</td>\n",
       "      <td>3.0</td>\n",
       "      <td>1.0</td>\n",
       "      <td>0.0</td>\n",
       "      <td>2.0</td>\n",
       "    </tr>\n",
       "    <tr>\n",
       "      <th>3</th>\n",
       "      <td>F</td>\n",
       "      <td>1.0</td>\n",
       "      <td>4.0</td>\n",
       "      <td>1.0</td>\n",
       "      <td>1.0</td>\n",
       "      <td>1.0</td>\n",
       "      <td>2.0</td>\n",
       "    </tr>\n",
       "    <tr>\n",
       "      <th>4</th>\n",
       "      <td>F</td>\n",
       "      <td>1.0</td>\n",
       "      <td>3.0</td>\n",
       "      <td>4.0</td>\n",
       "      <td>1.0</td>\n",
       "      <td>0.0</td>\n",
       "      <td>2.0</td>\n",
       "    </tr>\n",
       "  </tbody>\n",
       "</table>\n",
       "</div>"
      ],
      "text/plain": [
       "  sex  city_dweller  Medu  Mjob  higher  romantic  goout\n",
       "0   F           1.0   4.0   3.0     1.0       0.0    4.0\n",
       "1   F           1.0   1.0   3.0     1.0       0.0    3.0\n",
       "2   F           1.0   1.0   3.0     1.0       0.0    2.0\n",
       "3   F           1.0   4.0   1.0     1.0       1.0    2.0\n",
       "4   F           1.0   3.0   4.0     1.0       0.0    2.0"
      ]
     },
     "execution_count": 88,
     "metadata": {},
     "output_type": "execute_result"
    }
   ],
   "source": [
    "def get_stat_dif(column):\n",
    "    cols=stud_math.loc[:,column].value_counts().index\n",
    "    combinations_all=list(combinations(cols,2))\n",
    "    for comb in combinations_all:\n",
    "        if ttest_ind(stud_math.loc[stud_math.loc[:,column]==comb[0],'score'],\n",
    "                    stud_math.loc[stud_math.loc[:,column]==comb[1],'score']).pvalue \\\n",
    "            <=0.05/len(combinations_all):\n",
    "            print('Найдены статистические значимые различия для оценки', column)\n",
    "            break\n",
    "for col in ['school','sex','age','city_dweller','famsize_GT3',\n",
    "            'p_together','Medu','Fedu','Mjob','Fjob','reason',\n",
    "            'guardian','traveltime','studytime','schoolsup',\n",
    "            'famsup','paid','activities','nursery','higher',\n",
    "            'internet','romantic','famrel','freetime','goout',\n",
    "            'health','absences']:\n",
    "    get_stat_dif(col)\n",
    "stud_math_for_model = stud_math.loc[:,['sex','city_dweller',\n",
    "                               'Medu','Mjob','higher',\n",
    "                               'romantic','goout']]\n",
    "stud_math_for_model.head()"
   ]
  },
  {
   "cell_type": "code",
   "execution_count": null,
   "metadata": {},
   "outputs": [],
   "source": []
  }
 ],
 "metadata": {
  "celltoolbar": "Raw Cell Format",
  "kernelspec": {
   "display_name": "Python 3",
   "language": "python",
   "name": "python3"
  },
  "language_info": {
   "codemirror_mode": {
    "name": "ipython",
    "version": 3
   },
   "file_extension": ".py",
   "mimetype": "text/x-python",
   "name": "python",
   "nbconvert_exporter": "python",
   "pygments_lexer": "ipython3",
   "version": "3.7.3"
  }
 },
 "nbformat": 4,
 "nbformat_minor": 2
}
